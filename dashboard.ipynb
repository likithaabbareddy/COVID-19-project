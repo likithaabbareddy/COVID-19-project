{
 "cells": [
  {
   "cell_type": "code",
   "execution_count": 3,
   "metadata": {},
   "outputs": [],
   "source": [
    "from __future__ import print_function\n",
    "from ipywidgets import interact, interactive, fixed, interact_manual\n",
    "import ipywidgets as widgets\n",
    "from IPython.core.display import display, HTML\n",
    "\n",
    "import numpy as np \n",
    "import matplotlib.pyplot as plt \n",
    "import matplotlib.colors as mcolors\n",
    "import pandas as pd \n",
    "import random\n",
    "import math\n",
    "import time"
   ]
  },
  {
   "cell_type": "code",
   "execution_count": 2,
   "metadata": {},
   "outputs": [
    {
     "data": {
      "text/html": [
       "<div style = 'background-color: #504e4e; padding: 30px '><center><span style='color: #fff; font-size:40px;'>An Analysis and Prediction on COVID-19</span></center></div>"
      ],
      "text/plain": [
       "<IPython.core.display.HTML object>"
      ]
     },
     "metadata": {},
     "output_type": "display_data"
    }
   ],
   "source": [
    "display(HTML(\"<div style = 'background-color: black; padding: 30px '>\" +\n",
    "             \"<center><span style='color: #fff; font-size:40px;'>An Analysis and Prediction on COVID-19</span></center>\" +\n",
    "             \"</div>\")\n",
    "       )"
   ]
  },
  {
   "cell_type": "code",
   "execution_count": 3,
   "metadata": {},
   "outputs": [
    {
     "data": {
      "text/html": [
       "<div style = 'background-color: #504e4e; padding: 30px '><span style='color: #fff; font-size:20px;'>COVID-19:</span><center><div><p><span style = 'color: #fff; font-size:15px;'>COVID-19 is global pandemic that is threatening the whole world. We live in an increasingly anxious time, in this project I am going to visualize the spread of COVID-19, and predict the future confirmed cases and deaths based on the previous data.</span></p></div></center></div>"
      ],
      "text/plain": [
       "<IPython.core.display.HTML object>"
      ]
     },
     "metadata": {},
     "output_type": "display_data"
    }
   ],
   "source": [
    "display(HTML(\"<div style = 'background-color: black; padding: 30px '>\" +\n",
    "             \"<span style='color: #fff; font-size:20px;'>COVID-19:</span>\" +\n",
    "             \"<center><div><p><span style = 'color: #fff; font-size:15px;'>COVID-19 is global pandemic that is threatening the whole world. We live in an increasingly anxious time, in this project I am going to visualize the spread of COVID-19, and predict the future confirmed cases and deaths based on the previous data.</span></p></div></center>\"\n",
    "             \"</div>\")\n",
    "       )"
   ]
  },
  {
   "cell_type": "code",
   "execution_count": 4,
   "metadata": {},
   "outputs": [],
   "source": [
    "confirmed_global = pd.read_csv('https://raw.githubusercontent.com/CSSEGISandData/COVID-19/master/csse_covid_19_data/csse_covid_19_time_series/time_series_covid19_confirmed_global.csv')\n",
    "deaths_global = pd.read_csv('https://raw.githubusercontent.com/CSSEGISandData/COVID-19/master/csse_covid_19_data/csse_covid_19_time_series/time_series_covid19_deaths_global.csv')\n",
    "recoveries = pd.read_csv('https://raw.githubusercontent.com/CSSEGISandData/COVID-19/master/csse_covid_19_data/csse_covid_19_time_series/time_series_covid19_recovered_global.csv')\n",
    "country = pd.read_csv('https://raw.githubusercontent.com/CSSEGISandData/COVID-19/web-data/data/cases_country.csv')\n",
    "# confirmed.head()"
   ]
  },
  {
   "cell_type": "code",
   "execution_count": 5,
   "metadata": {},
   "outputs": [],
   "source": [
    "#data cleaning\n",
    "#renaming to lower case\n",
    "country.columns = map(str.lower, country.columns)\n",
    "confirmed_global.columns = map(str.lower, confirmed_global.columns)\n",
    "deaths_global.columns = map(str.lower, deaths_global.columns)\n",
    "# recoveries.columns = map(str.lower, recoveries.columns)\n",
    "# confirmed.columns = map(str.lower, confirmed.columns)\n",
    "# deaths.columns = map(str.lower, deaths.columns)"
   ]
  },
  {
   "cell_type": "code",
   "execution_count": 6,
   "metadata": {},
   "outputs": [],
   "source": [
    "confirmed_global = confirmed_global.rename(columns = {'province/state':'state', 'country/region':'country'})\n",
    "# confirmed = confirmed.rename(columns = {'province/state':'state', 'country/region':'country'})\n",
    "deaths_global = deaths_global.rename(columns = {'province/state':'state', 'country/region':'country'})\n",
    "# deaths = deaths.rename(columns = {'province/state':'state', 'country/region':'country'})\n",
    "# recoveries = recoveries.rename(columns = {'province/state':'state', 'country/region':'country'})\n",
    "country = country.rename(columns = {'country_region':'country'})"
   ]
  },
  {
   "cell_type": "code",
   "execution_count": 7,
   "metadata": {},
   "outputs": [
    {
     "data": {
      "text/html": [
       "<div style = 'background-color: #504e4e; padding: 30px '><center><span style='color: #fff; font-size:40px;'>Country wise statistics:</span></center></div>"
      ],
      "text/plain": [
       "<IPython.core.display.HTML object>"
      ]
     },
     "metadata": {},
     "output_type": "display_data"
    }
   ],
   "source": [
    "display(HTML(\"<div style = 'background-color: black; padding: 30px '>\" +\n",
    "             \"<center><span style='color: #fff; font-size:40px;'>Country wise statistics:</span></center>\" +\n",
    "             \"</div>\")\n",
    "       )"
   ]
  },
  {
   "cell_type": "code",
   "execution_count": 8,
   "metadata": {},
   "outputs": [
    {
     "data": {
      "text/html": [
       "<div style = 'background-color: #504e4e; padding: 30px '><center><span style='color: #fff; font-size:30px;'> Confirmed: 3659271</span><span style='color: red; font-size:30px;margin-left:20px;'> Deaths: 256894</span><span style='color: lightgreen; font-size:30px; margin-left:20px;'> Recovered: 1197340</span></center></div>"
      ],
      "text/plain": [
       "<IPython.core.display.HTML object>"
      ]
     },
     "metadata": {},
     "output_type": "display_data"
    }
   ],
   "source": [
    "sorted_country = country.sort_values('confirmed', ascending = False).head(10)\n",
    "#getting the over all stats of COVID-19 cases\n",
    "# total number of confirmed, death and recovered cases\n",
    "totalConfirmed = int(country['confirmed'].sum())\n",
    "totalDeaths = int(country['deaths'].sum())\n",
    "totalRecoveries = int(country['recovered'].sum())\n",
    "totalActiveCases = int(country['active'].sum())\n",
    "\n",
    "#display\n",
    "display(HTML(\"<div style = 'background-color: black; padding: 30px '>\" +\n",
    "             \"<center><span style='color: #fff; font-size:30px;'> Confirmed: \"  + str(totalConfirmed) +\"</span>\" +\n",
    "             \"<span style='color: red; font-size:30px;margin-left:20px;'> Deaths: \" + str(totalDeaths) + \"</span>\"+\n",
    "             \"<span style='color: lightgreen; font-size:30px; margin-left:20px;'> Recovered: \" + str(totalRecoveries) + \"</span>\"+\n",
    "             \"</center></div>\")\n",
    "       )"
   ]
  },
  {
   "cell_type": "code",
   "execution_count": 9,
   "metadata": {},
   "outputs": [
    {
     "data": {
      "text/html": [
       "<div style = 'background-color: #504e4e; padding: 30px '><span style='color: #fff; font-size:20px;'>Enter number of countries:</span></div>"
      ],
      "text/plain": [
       "<IPython.core.display.HTML object>"
      ]
     },
     "metadata": {},
     "output_type": "display_data"
    }
   ],
   "source": [
    "display(HTML(\"<div style = 'background-color: black; padding: 30px '>\" +\n",
    "             \"<span style='color: #fff; font-size:20px;'>Enter number of countries:</span>\" +\n",
    "             \"</div>\")\n",
    "       )"
   ]
  },
  {
   "cell_type": "code",
   "execution_count": 10,
   "metadata": {},
   "outputs": [
    {
     "data": {
      "application/vnd.jupyter.widget-view+json": {
       "model_id": "04c0010f37a140d89d9f6aa328e208a5",
       "version_major": 2,
       "version_minor": 0
      },
      "text/plain": [
       "interactive(children=(Text(value='10', description='Countries'), Output()), _dom_classes=('widget-interact',))"
      ]
     },
     "metadata": {},
     "output_type": "display_data"
    },
    {
     "data": {
      "application/vnd.jupyter.widget-view+json": {
       "model_id": "751809a122cc41adb6d3bcd5acf01133",
       "version_major": 2,
       "version_minor": 0
      },
      "text/plain": [
       "VBox(children=(FigureWidget({\n",
       "    'data': [], 'layout': {'template': '...'}\n",
       "}),), layout=Layout(border='solid …"
      ]
     },
     "metadata": {},
     "output_type": "display_data"
    }
   ],
   "source": [
    "import plotly.graph_objects as po\n",
    "fig = po.FigureWidget( layout=po.Layout() )\n",
    "def style_cols(i):\n",
    "    r = 'background-color: red'\n",
    "    g = 'background-color: green'\n",
    "    b = 'background-color: blue'\n",
    "    temp = pd.DataFrame('', index = i.index, columns = i.columns)\n",
    "    temp.iloc[:, 4] = b\n",
    "    temp.iloc[:, 5] = r\n",
    "    temp.iloc[:, 6] = g\n",
    "    return temp\n",
    "#sorted_country.style.apply(style_cols, axis = None)\n",
    "def displayLatestCases(Countries):\n",
    "    Countries = int(Countries)\n",
    "    return country.sort_values('confirmed', ascending= False).head(Countries).style.apply(style_cols, axis=None)\n",
    "\n",
    "interact(displayLatestCases, Countries='10')\n",
    "\n",
    "ipywLayout = widgets.Layout(border='solid 2px green')\n",
    "ipywLayout.display='none' # uncomment this, run cell again - then the graph/figure disappears\n",
    "widgets.VBox([fig], layout=ipywLayout)"
   ]
  },
  {
   "cell_type": "code",
   "execution_count": 11,
   "metadata": {},
   "outputs": [
    {
     "data": {
      "text/html": [
       "<div style = 'background-color: #504e4e; padding: 30px '><span style='color: #fff; font-size:20px;'>Slide to check the number of Countries:</span></div>"
      ],
      "text/plain": [
       "<IPython.core.display.HTML object>"
      ]
     },
     "metadata": {},
     "output_type": "display_data"
    }
   ],
   "source": [
    "import plotly.express as px\n",
    "display(HTML(\"<div style = 'background-color: black; padding: 30px '>\" +\n",
    "             \"<span style='color: #fff; font-size:20px;'>Slide to check the number of Countries:</span>\" +\n",
    "             \"</div>\")\n",
    "       )"
   ]
  },
  {
   "cell_type": "code",
   "execution_count": 12,
   "metadata": {},
   "outputs": [
    {
     "data": {
      "application/vnd.jupyter.widget-view+json": {
       "model_id": "b517bb9300754eb0ad9059658aa889e4",
       "version_major": 2,
       "version_minor": 0
      },
      "text/plain": [
       "interactive(children=(IntSlider(value=10, description='Countries', max=30, min=-10), Output()), _dom_classes=(…"
      ]
     },
     "metadata": {},
     "output_type": "display_data"
    },
    {
     "data": {
      "application/vnd.jupyter.widget-view+json": {
       "model_id": "e8ee214c56c9434eaff19cc076861985",
       "version_major": 2,
       "version_minor": 0
      },
      "text/plain": [
       "VBox(children=(FigureWidget({\n",
       "    'data': [], 'layout': {'template': '...'}\n",
       "}),), layout=Layout(border='solid …"
      ]
     },
     "metadata": {},
     "output_type": "display_data"
    }
   ],
   "source": [
    "import plotly.graph_objects as po\n",
    "fig = po.FigureWidget( layout=po.Layout() )\n",
    "sorted_country = country.sort_values('confirmed', ascending= False)\n",
    "# fig = px.scatter(sorted_country.head(10), x='country', y='confirmed', size='confirmed', color='country', \n",
    "#                  hover_name='country', size_max=60)\n",
    "# fig.show()\n",
    "\n",
    "def scatterPlot(Countries):\n",
    "    fig = px.scatter(sorted_country.head(Countries), x=\"country\", y=\"confirmed\", size=\"confirmed\", color=\"country\",\n",
    "               hover_name=\"country\", size_max=60)\n",
    "    fig.update_layout(\n",
    "    title=str(Countries) +\"Countries with maximum number of confirmed cases:\",\n",
    "    xaxis_title=\"Countries\",\n",
    "    yaxis_title=\"Confirmed Cases\",\n",
    "    width = 700\n",
    "    )\n",
    "    fig.show();\n",
    "\n",
    "interact(scatterPlot, Countries=10)\n",
    "\n",
    "ipywLayout = widgets.Layout(border='solid 2px green')\n",
    "ipywLayout.display='none'\n",
    "widgets.VBox([fig], layout=ipywLayout)"
   ]
  },
  {
   "cell_type": "code",
   "execution_count": 13,
   "metadata": {},
   "outputs": [
    {
     "data": {
      "text/html": [
       "<div style = 'background-color: #504e4e; padding: 30px '><span style='color: #fff; font-size:20px;'>Enter the Country Name:</span></div>"
      ],
      "text/plain": [
       "<IPython.core.display.HTML object>"
      ]
     },
     "metadata": {},
     "output_type": "display_data"
    }
   ],
   "source": [
    "import plotly.graph_objects as po\n",
    "import plotly.express as px\n",
    "display(HTML(\"<div style = 'background-color: black; padding: 30px '>\" +\n",
    "             \"<span style='color: #fff; font-size:20px;'>Enter the Country Name:</span>\" +\n",
    "             \"</div>\")\n",
    "       )"
   ]
  },
  {
   "cell_type": "code",
   "execution_count": 14,
   "metadata": {},
   "outputs": [],
   "source": [
    "import plotly.graph_objects as po\n",
    "fig = po.FigureWidget( layout=po.Layout() )\n",
    "def plot_country_cases(country):\n",
    "    labels = ['confirmed', 'deaths']\n",
    "    colors = ['blue', 'red']\n",
    "    mode_size = [6, 8]\n",
    "    line_size = [4, 5]\n",
    "    \n",
    "    df_list = [confirmed_global, deaths_global]\n",
    "    \n",
    "    fig = po.Figure();\n",
    "    \n",
    "    for i, df in enumerate(df_list):\n",
    "        if country == 'World' or country == 'world':\n",
    "            x_data = np.array(list(df.iloc[:, 20:].columns))\n",
    "            y_data = np.sum(np.asarray(df.iloc[:,4:]),axis = 0)\n",
    "            \n",
    "        else:    \n",
    "            x_data = np.array(list(df.iloc[:, 20:].columns))\n",
    "            y_data = np.sum(np.asarray(df[df['country'] == country].iloc[:,20:]),axis = 0)\n",
    "            \n",
    "        fig.add_trace(po.Scatter(x=x_data, y=y_data, mode='lines+markers',\n",
    "        name=labels[i],\n",
    "        line=dict(color=colors[i], width=line_size[i]),\n",
    "        connectgaps=True,\n",
    "        text = \"Total \" + str(labels[i]) +\": \"+ str(y_data[-1])\n",
    "        ));\n",
    "    \n",
    "    fig.update_layout(\n",
    "        title=\"COVID 19 cases of \" + country,\n",
    "        xaxis_title='Dates',\n",
    "        yaxis_title='Number of Confirmed Cases',\n",
    "        margin=dict(l=20, r=20, t=40, b=20),\n",
    "        paper_bgcolor=\"lightgrey\",\n",
    "        width = 800,\n",
    "        \n",
    "    );\n",
    "    \n",
    "    fig.update_yaxes(type=\"linear\")\n",
    "    fig.show();\n",
    "#plot_country_cases('US')\n",
    "#interact(plot_country_cases, country='world');        \n"
   ]
  },
  {
   "cell_type": "code",
   "execution_count": 15,
   "metadata": {},
   "outputs": [
    {
     "data": {
      "application/vnd.jupyter.widget-view+json": {
       "model_id": "cbd08b6cd2ac43a899a429da31c6b2da",
       "version_major": 2,
       "version_minor": 0
      },
      "text/plain": [
       "interactive(children=(Text(value='World', description='country'), Output()), _dom_classes=('widget-interact',)…"
      ]
     },
     "metadata": {},
     "output_type": "display_data"
    },
    {
     "data": {
      "application/vnd.jupyter.widget-view+json": {
       "model_id": "6877a5393ef747978b90f219ab6ff1f7",
       "version_major": 2,
       "version_minor": 0
      },
      "text/plain": [
       "VBox(children=(FigureWidget({\n",
       "    'data': [], 'layout': {'template': '...'}\n",
       "}),), layout=Layout(border='solid …"
      ]
     },
     "metadata": {},
     "output_type": "display_data"
    }
   ],
   "source": [
    "interact(plot_country_cases, country='World')\n",
    "ipywLayout = widgets.Layout(border='solid 2px green')\n",
    "ipywLayout.display='none' # uncomment this, run cell again - then the graph/figure disappears\n",
    "widgets.VBox([fig], layout=ipywLayout)"
   ]
  },
  {
   "cell_type": "code",
   "execution_count": 16,
   "metadata": {},
   "outputs": [
    {
     "data": {
      "text/html": [
       "<div style = 'background-color: #504e4e; padding: 30px '><span style='color: #fff; font-size:20px;'>Top 10 most affected countries:</span></div>"
      ],
      "text/plain": [
       "<IPython.core.display.HTML object>"
      ]
     },
     "metadata": {},
     "output_type": "display_data"
    },
    {
     "data": {
      "application/vnd.plotly.v1+json": {
       "config": {
        "plotlyServerURL": "https://plot.ly"
       },
       "data": [
        {
         "alignmentgroup": "True",
         "hovertemplate": "country=%{x}<br>confirmed=%{y}<extra></extra>",
         "legendgroup": "",
         "marker": {
          "color": "blue"
         },
         "name": "",
         "offsetgroup": "",
         "orientation": "v",
         "showlegend": false,
         "textposition": "auto",
         "type": "bar",
         "x": [
          "US",
          "Spain",
          "Italy",
          "United Kingdom",
          "France",
          "Germany",
          "Russia",
          "Turkey",
          "Brazil",
          "Iran"
         ],
         "xaxis": "x",
         "y": [
          1203502,
          219329,
          213013,
          196239,
          170687,
          167007,
          155370,
          129491,
          114715,
          99970
         ],
         "yaxis": "y"
        }
       ],
       "layout": {
        "barmode": "relative",
        "height": 500,
        "legend": {
         "tracegroupgap": 0
        },
        "template": {
         "data": {
          "bar": [
           {
            "error_x": {
             "color": "#2a3f5f"
            },
            "error_y": {
             "color": "#2a3f5f"
            },
            "marker": {
             "line": {
              "color": "#E5ECF6",
              "width": 0.5
             }
            },
            "type": "bar"
           }
          ],
          "barpolar": [
           {
            "marker": {
             "line": {
              "color": "#E5ECF6",
              "width": 0.5
             }
            },
            "type": "barpolar"
           }
          ],
          "carpet": [
           {
            "aaxis": {
             "endlinecolor": "#2a3f5f",
             "gridcolor": "white",
             "linecolor": "white",
             "minorgridcolor": "white",
             "startlinecolor": "#2a3f5f"
            },
            "baxis": {
             "endlinecolor": "#2a3f5f",
             "gridcolor": "white",
             "linecolor": "white",
             "minorgridcolor": "white",
             "startlinecolor": "#2a3f5f"
            },
            "type": "carpet"
           }
          ],
          "choropleth": [
           {
            "colorbar": {
             "outlinewidth": 0,
             "ticks": ""
            },
            "type": "choropleth"
           }
          ],
          "contour": [
           {
            "colorbar": {
             "outlinewidth": 0,
             "ticks": ""
            },
            "colorscale": [
             [
              0,
              "#0d0887"
             ],
             [
              0.1111111111111111,
              "#46039f"
             ],
             [
              0.2222222222222222,
              "#7201a8"
             ],
             [
              0.3333333333333333,
              "#9c179e"
             ],
             [
              0.4444444444444444,
              "#bd3786"
             ],
             [
              0.5555555555555556,
              "#d8576b"
             ],
             [
              0.6666666666666666,
              "#ed7953"
             ],
             [
              0.7777777777777778,
              "#fb9f3a"
             ],
             [
              0.8888888888888888,
              "#fdca26"
             ],
             [
              1,
              "#f0f921"
             ]
            ],
            "type": "contour"
           }
          ],
          "contourcarpet": [
           {
            "colorbar": {
             "outlinewidth": 0,
             "ticks": ""
            },
            "type": "contourcarpet"
           }
          ],
          "heatmap": [
           {
            "colorbar": {
             "outlinewidth": 0,
             "ticks": ""
            },
            "colorscale": [
             [
              0,
              "#0d0887"
             ],
             [
              0.1111111111111111,
              "#46039f"
             ],
             [
              0.2222222222222222,
              "#7201a8"
             ],
             [
              0.3333333333333333,
              "#9c179e"
             ],
             [
              0.4444444444444444,
              "#bd3786"
             ],
             [
              0.5555555555555556,
              "#d8576b"
             ],
             [
              0.6666666666666666,
              "#ed7953"
             ],
             [
              0.7777777777777778,
              "#fb9f3a"
             ],
             [
              0.8888888888888888,
              "#fdca26"
             ],
             [
              1,
              "#f0f921"
             ]
            ],
            "type": "heatmap"
           }
          ],
          "heatmapgl": [
           {
            "colorbar": {
             "outlinewidth": 0,
             "ticks": ""
            },
            "colorscale": [
             [
              0,
              "#0d0887"
             ],
             [
              0.1111111111111111,
              "#46039f"
             ],
             [
              0.2222222222222222,
              "#7201a8"
             ],
             [
              0.3333333333333333,
              "#9c179e"
             ],
             [
              0.4444444444444444,
              "#bd3786"
             ],
             [
              0.5555555555555556,
              "#d8576b"
             ],
             [
              0.6666666666666666,
              "#ed7953"
             ],
             [
              0.7777777777777778,
              "#fb9f3a"
             ],
             [
              0.8888888888888888,
              "#fdca26"
             ],
             [
              1,
              "#f0f921"
             ]
            ],
            "type": "heatmapgl"
           }
          ],
          "histogram": [
           {
            "marker": {
             "colorbar": {
              "outlinewidth": 0,
              "ticks": ""
             }
            },
            "type": "histogram"
           }
          ],
          "histogram2d": [
           {
            "colorbar": {
             "outlinewidth": 0,
             "ticks": ""
            },
            "colorscale": [
             [
              0,
              "#0d0887"
             ],
             [
              0.1111111111111111,
              "#46039f"
             ],
             [
              0.2222222222222222,
              "#7201a8"
             ],
             [
              0.3333333333333333,
              "#9c179e"
             ],
             [
              0.4444444444444444,
              "#bd3786"
             ],
             [
              0.5555555555555556,
              "#d8576b"
             ],
             [
              0.6666666666666666,
              "#ed7953"
             ],
             [
              0.7777777777777778,
              "#fb9f3a"
             ],
             [
              0.8888888888888888,
              "#fdca26"
             ],
             [
              1,
              "#f0f921"
             ]
            ],
            "type": "histogram2d"
           }
          ],
          "histogram2dcontour": [
           {
            "colorbar": {
             "outlinewidth": 0,
             "ticks": ""
            },
            "colorscale": [
             [
              0,
              "#0d0887"
             ],
             [
              0.1111111111111111,
              "#46039f"
             ],
             [
              0.2222222222222222,
              "#7201a8"
             ],
             [
              0.3333333333333333,
              "#9c179e"
             ],
             [
              0.4444444444444444,
              "#bd3786"
             ],
             [
              0.5555555555555556,
              "#d8576b"
             ],
             [
              0.6666666666666666,
              "#ed7953"
             ],
             [
              0.7777777777777778,
              "#fb9f3a"
             ],
             [
              0.8888888888888888,
              "#fdca26"
             ],
             [
              1,
              "#f0f921"
             ]
            ],
            "type": "histogram2dcontour"
           }
          ],
          "mesh3d": [
           {
            "colorbar": {
             "outlinewidth": 0,
             "ticks": ""
            },
            "type": "mesh3d"
           }
          ],
          "parcoords": [
           {
            "line": {
             "colorbar": {
              "outlinewidth": 0,
              "ticks": ""
             }
            },
            "type": "parcoords"
           }
          ],
          "pie": [
           {
            "automargin": true,
            "type": "pie"
           }
          ],
          "scatter": [
           {
            "marker": {
             "colorbar": {
              "outlinewidth": 0,
              "ticks": ""
             }
            },
            "type": "scatter"
           }
          ],
          "scatter3d": [
           {
            "line": {
             "colorbar": {
              "outlinewidth": 0,
              "ticks": ""
             }
            },
            "marker": {
             "colorbar": {
              "outlinewidth": 0,
              "ticks": ""
             }
            },
            "type": "scatter3d"
           }
          ],
          "scattercarpet": [
           {
            "marker": {
             "colorbar": {
              "outlinewidth": 0,
              "ticks": ""
             }
            },
            "type": "scattercarpet"
           }
          ],
          "scattergeo": [
           {
            "marker": {
             "colorbar": {
              "outlinewidth": 0,
              "ticks": ""
             }
            },
            "type": "scattergeo"
           }
          ],
          "scattergl": [
           {
            "marker": {
             "colorbar": {
              "outlinewidth": 0,
              "ticks": ""
             }
            },
            "type": "scattergl"
           }
          ],
          "scattermapbox": [
           {
            "marker": {
             "colorbar": {
              "outlinewidth": 0,
              "ticks": ""
             }
            },
            "type": "scattermapbox"
           }
          ],
          "scatterpolar": [
           {
            "marker": {
             "colorbar": {
              "outlinewidth": 0,
              "ticks": ""
             }
            },
            "type": "scatterpolar"
           }
          ],
          "scatterpolargl": [
           {
            "marker": {
             "colorbar": {
              "outlinewidth": 0,
              "ticks": ""
             }
            },
            "type": "scatterpolargl"
           }
          ],
          "scatterternary": [
           {
            "marker": {
             "colorbar": {
              "outlinewidth": 0,
              "ticks": ""
             }
            },
            "type": "scatterternary"
           }
          ],
          "surface": [
           {
            "colorbar": {
             "outlinewidth": 0,
             "ticks": ""
            },
            "colorscale": [
             [
              0,
              "#0d0887"
             ],
             [
              0.1111111111111111,
              "#46039f"
             ],
             [
              0.2222222222222222,
              "#7201a8"
             ],
             [
              0.3333333333333333,
              "#9c179e"
             ],
             [
              0.4444444444444444,
              "#bd3786"
             ],
             [
              0.5555555555555556,
              "#d8576b"
             ],
             [
              0.6666666666666666,
              "#ed7953"
             ],
             [
              0.7777777777777778,
              "#fb9f3a"
             ],
             [
              0.8888888888888888,
              "#fdca26"
             ],
             [
              1,
              "#f0f921"
             ]
            ],
            "type": "surface"
           }
          ],
          "table": [
           {
            "cells": {
             "fill": {
              "color": "#EBF0F8"
             },
             "line": {
              "color": "white"
             }
            },
            "header": {
             "fill": {
              "color": "#C8D4E3"
             },
             "line": {
              "color": "white"
             }
            },
            "type": "table"
           }
          ]
         },
         "layout": {
          "annotationdefaults": {
           "arrowcolor": "#2a3f5f",
           "arrowhead": 0,
           "arrowwidth": 1
          },
          "coloraxis": {
           "colorbar": {
            "outlinewidth": 0,
            "ticks": ""
           }
          },
          "colorscale": {
           "diverging": [
            [
             0,
             "#8e0152"
            ],
            [
             0.1,
             "#c51b7d"
            ],
            [
             0.2,
             "#de77ae"
            ],
            [
             0.3,
             "#f1b6da"
            ],
            [
             0.4,
             "#fde0ef"
            ],
            [
             0.5,
             "#f7f7f7"
            ],
            [
             0.6,
             "#e6f5d0"
            ],
            [
             0.7,
             "#b8e186"
            ],
            [
             0.8,
             "#7fbc41"
            ],
            [
             0.9,
             "#4d9221"
            ],
            [
             1,
             "#276419"
            ]
           ],
           "sequential": [
            [
             0,
             "#0d0887"
            ],
            [
             0.1111111111111111,
             "#46039f"
            ],
            [
             0.2222222222222222,
             "#7201a8"
            ],
            [
             0.3333333333333333,
             "#9c179e"
            ],
            [
             0.4444444444444444,
             "#bd3786"
            ],
            [
             0.5555555555555556,
             "#d8576b"
            ],
            [
             0.6666666666666666,
             "#ed7953"
            ],
            [
             0.7777777777777778,
             "#fb9f3a"
            ],
            [
             0.8888888888888888,
             "#fdca26"
            ],
            [
             1,
             "#f0f921"
            ]
           ],
           "sequentialminus": [
            [
             0,
             "#0d0887"
            ],
            [
             0.1111111111111111,
             "#46039f"
            ],
            [
             0.2222222222222222,
             "#7201a8"
            ],
            [
             0.3333333333333333,
             "#9c179e"
            ],
            [
             0.4444444444444444,
             "#bd3786"
            ],
            [
             0.5555555555555556,
             "#d8576b"
            ],
            [
             0.6666666666666666,
             "#ed7953"
            ],
            [
             0.7777777777777778,
             "#fb9f3a"
            ],
            [
             0.8888888888888888,
             "#fdca26"
            ],
            [
             1,
             "#f0f921"
            ]
           ]
          },
          "colorway": [
           "#636efa",
           "#EF553B",
           "#00cc96",
           "#ab63fa",
           "#FFA15A",
           "#19d3f3",
           "#FF6692",
           "#B6E880",
           "#FF97FF",
           "#FECB52"
          ],
          "font": {
           "color": "#2a3f5f"
          },
          "geo": {
           "bgcolor": "white",
           "lakecolor": "white",
           "landcolor": "#E5ECF6",
           "showlakes": true,
           "showland": true,
           "subunitcolor": "white"
          },
          "hoverlabel": {
           "align": "left"
          },
          "hovermode": "closest",
          "mapbox": {
           "style": "light"
          },
          "paper_bgcolor": "white",
          "plot_bgcolor": "#E5ECF6",
          "polar": {
           "angularaxis": {
            "gridcolor": "white",
            "linecolor": "white",
            "ticks": ""
           },
           "bgcolor": "#E5ECF6",
           "radialaxis": {
            "gridcolor": "white",
            "linecolor": "white",
            "ticks": ""
           }
          },
          "scene": {
           "xaxis": {
            "backgroundcolor": "#E5ECF6",
            "gridcolor": "white",
            "gridwidth": 2,
            "linecolor": "white",
            "showbackground": true,
            "ticks": "",
            "zerolinecolor": "white"
           },
           "yaxis": {
            "backgroundcolor": "#E5ECF6",
            "gridcolor": "white",
            "gridwidth": 2,
            "linecolor": "white",
            "showbackground": true,
            "ticks": "",
            "zerolinecolor": "white"
           },
           "zaxis": {
            "backgroundcolor": "#E5ECF6",
            "gridcolor": "white",
            "gridwidth": 2,
            "linecolor": "white",
            "showbackground": true,
            "ticks": "",
            "zerolinecolor": "white"
           }
          },
          "shapedefaults": {
           "line": {
            "color": "#2a3f5f"
           }
          },
          "ternary": {
           "aaxis": {
            "gridcolor": "white",
            "linecolor": "white",
            "ticks": ""
           },
           "baxis": {
            "gridcolor": "white",
            "linecolor": "white",
            "ticks": ""
           },
           "bgcolor": "#E5ECF6",
           "caxis": {
            "gridcolor": "white",
            "linecolor": "white",
            "ticks": ""
           }
          },
          "title": {
           "x": 0.05
          },
          "xaxis": {
           "automargin": true,
           "gridcolor": "white",
           "linecolor": "white",
           "ticks": "",
           "title": {
            "standoff": 15
           },
           "zerolinecolor": "white",
           "zerolinewidth": 2
          },
          "yaxis": {
           "automargin": true,
           "gridcolor": "white",
           "linecolor": "white",
           "ticks": "",
           "title": {
            "standoff": 15
           },
           "zerolinecolor": "white",
           "zerolinewidth": 2
          }
         }
        },
        "title": {
         "text": "Confirmed Cases:"
        },
        "width": 800,
        "xaxis": {
         "anchor": "y",
         "domain": [
          0,
          1
         ],
         "title": {
          "text": "country"
         }
        },
        "yaxis": {
         "anchor": "x",
         "domain": [
          0,
          1
         ],
         "title": {
          "text": "confirmed"
         }
        }
       }
      },
      "text/html": [
       "<div>\n",
       "        \n",
       "        \n",
       "            <div id=\"62085bf6-eaab-48cf-a46f-0306360709ad\" class=\"plotly-graph-div\" style=\"height:500px; width:800px;\"></div>\n",
       "            <script type=\"text/javascript\">\n",
       "                require([\"plotly\"], function(Plotly) {\n",
       "                    window.PLOTLYENV=window.PLOTLYENV || {};\n",
       "                    \n",
       "                if (document.getElementById(\"62085bf6-eaab-48cf-a46f-0306360709ad\")) {\n",
       "                    Plotly.newPlot(\n",
       "                        '62085bf6-eaab-48cf-a46f-0306360709ad',\n",
       "                        [{\"alignmentgroup\": \"True\", \"hovertemplate\": \"country=%{x}<br>confirmed=%{y}<extra></extra>\", \"legendgroup\": \"\", \"marker\": {\"color\": \"blue\"}, \"name\": \"\", \"offsetgroup\": \"\", \"orientation\": \"v\", \"showlegend\": false, \"textposition\": \"auto\", \"type\": \"bar\", \"x\": [\"US\", \"Spain\", \"Italy\", \"United Kingdom\", \"France\", \"Germany\", \"Russia\", \"Turkey\", \"Brazil\", \"Iran\"], \"xaxis\": \"x\", \"y\": [1203502, 219329, 213013, 196239, 170687, 167007, 155370, 129491, 114715, 99970], \"yaxis\": \"y\"}],\n",
       "                        {\"barmode\": \"relative\", \"height\": 500, \"legend\": {\"tracegroupgap\": 0}, \"template\": {\"data\": {\"bar\": [{\"error_x\": {\"color\": \"#2a3f5f\"}, \"error_y\": {\"color\": \"#2a3f5f\"}, \"marker\": {\"line\": {\"color\": \"#E5ECF6\", \"width\": 0.5}}, \"type\": \"bar\"}], \"barpolar\": [{\"marker\": {\"line\": {\"color\": \"#E5ECF6\", \"width\": 0.5}}, \"type\": \"barpolar\"}], \"carpet\": [{\"aaxis\": {\"endlinecolor\": \"#2a3f5f\", \"gridcolor\": \"white\", \"linecolor\": \"white\", \"minorgridcolor\": \"white\", \"startlinecolor\": \"#2a3f5f\"}, \"baxis\": {\"endlinecolor\": \"#2a3f5f\", \"gridcolor\": \"white\", \"linecolor\": \"white\", \"minorgridcolor\": \"white\", \"startlinecolor\": \"#2a3f5f\"}, \"type\": \"carpet\"}], \"choropleth\": [{\"colorbar\": {\"outlinewidth\": 0, \"ticks\": \"\"}, \"type\": \"choropleth\"}], \"contour\": [{\"colorbar\": {\"outlinewidth\": 0, \"ticks\": \"\"}, \"colorscale\": [[0.0, \"#0d0887\"], [0.1111111111111111, \"#46039f\"], [0.2222222222222222, \"#7201a8\"], [0.3333333333333333, \"#9c179e\"], [0.4444444444444444, \"#bd3786\"], [0.5555555555555556, \"#d8576b\"], [0.6666666666666666, \"#ed7953\"], [0.7777777777777778, \"#fb9f3a\"], [0.8888888888888888, \"#fdca26\"], [1.0, \"#f0f921\"]], \"type\": \"contour\"}], \"contourcarpet\": [{\"colorbar\": {\"outlinewidth\": 0, \"ticks\": \"\"}, \"type\": \"contourcarpet\"}], \"heatmap\": [{\"colorbar\": {\"outlinewidth\": 0, \"ticks\": \"\"}, \"colorscale\": [[0.0, \"#0d0887\"], [0.1111111111111111, \"#46039f\"], [0.2222222222222222, \"#7201a8\"], [0.3333333333333333, \"#9c179e\"], [0.4444444444444444, \"#bd3786\"], [0.5555555555555556, \"#d8576b\"], [0.6666666666666666, \"#ed7953\"], [0.7777777777777778, \"#fb9f3a\"], [0.8888888888888888, \"#fdca26\"], [1.0, \"#f0f921\"]], \"type\": \"heatmap\"}], \"heatmapgl\": [{\"colorbar\": {\"outlinewidth\": 0, \"ticks\": \"\"}, \"colorscale\": [[0.0, \"#0d0887\"], [0.1111111111111111, \"#46039f\"], [0.2222222222222222, \"#7201a8\"], [0.3333333333333333, \"#9c179e\"], [0.4444444444444444, \"#bd3786\"], [0.5555555555555556, \"#d8576b\"], [0.6666666666666666, \"#ed7953\"], [0.7777777777777778, \"#fb9f3a\"], [0.8888888888888888, \"#fdca26\"], [1.0, \"#f0f921\"]], \"type\": \"heatmapgl\"}], \"histogram\": [{\"marker\": {\"colorbar\": {\"outlinewidth\": 0, \"ticks\": \"\"}}, \"type\": \"histogram\"}], \"histogram2d\": [{\"colorbar\": {\"outlinewidth\": 0, \"ticks\": \"\"}, \"colorscale\": [[0.0, \"#0d0887\"], [0.1111111111111111, \"#46039f\"], [0.2222222222222222, \"#7201a8\"], [0.3333333333333333, \"#9c179e\"], [0.4444444444444444, \"#bd3786\"], [0.5555555555555556, \"#d8576b\"], [0.6666666666666666, \"#ed7953\"], [0.7777777777777778, \"#fb9f3a\"], [0.8888888888888888, \"#fdca26\"], [1.0, \"#f0f921\"]], \"type\": \"histogram2d\"}], \"histogram2dcontour\": [{\"colorbar\": {\"outlinewidth\": 0, \"ticks\": \"\"}, \"colorscale\": [[0.0, \"#0d0887\"], [0.1111111111111111, \"#46039f\"], [0.2222222222222222, \"#7201a8\"], [0.3333333333333333, \"#9c179e\"], [0.4444444444444444, \"#bd3786\"], [0.5555555555555556, \"#d8576b\"], [0.6666666666666666, \"#ed7953\"], [0.7777777777777778, \"#fb9f3a\"], [0.8888888888888888, \"#fdca26\"], [1.0, \"#f0f921\"]], \"type\": \"histogram2dcontour\"}], \"mesh3d\": [{\"colorbar\": {\"outlinewidth\": 0, \"ticks\": \"\"}, \"type\": \"mesh3d\"}], \"parcoords\": [{\"line\": {\"colorbar\": {\"outlinewidth\": 0, \"ticks\": \"\"}}, \"type\": \"parcoords\"}], \"pie\": [{\"automargin\": true, \"type\": \"pie\"}], \"scatter\": [{\"marker\": {\"colorbar\": {\"outlinewidth\": 0, \"ticks\": \"\"}}, \"type\": \"scatter\"}], \"scatter3d\": [{\"line\": {\"colorbar\": {\"outlinewidth\": 0, \"ticks\": \"\"}}, \"marker\": {\"colorbar\": {\"outlinewidth\": 0, \"ticks\": \"\"}}, \"type\": \"scatter3d\"}], \"scattercarpet\": [{\"marker\": {\"colorbar\": {\"outlinewidth\": 0, \"ticks\": \"\"}}, \"type\": \"scattercarpet\"}], \"scattergeo\": [{\"marker\": {\"colorbar\": {\"outlinewidth\": 0, \"ticks\": \"\"}}, \"type\": \"scattergeo\"}], \"scattergl\": [{\"marker\": {\"colorbar\": {\"outlinewidth\": 0, \"ticks\": \"\"}}, \"type\": \"scattergl\"}], \"scattermapbox\": [{\"marker\": {\"colorbar\": {\"outlinewidth\": 0, \"ticks\": \"\"}}, \"type\": \"scattermapbox\"}], \"scatterpolar\": [{\"marker\": {\"colorbar\": {\"outlinewidth\": 0, \"ticks\": \"\"}}, \"type\": \"scatterpolar\"}], \"scatterpolargl\": [{\"marker\": {\"colorbar\": {\"outlinewidth\": 0, \"ticks\": \"\"}}, \"type\": \"scatterpolargl\"}], \"scatterternary\": [{\"marker\": {\"colorbar\": {\"outlinewidth\": 0, \"ticks\": \"\"}}, \"type\": \"scatterternary\"}], \"surface\": [{\"colorbar\": {\"outlinewidth\": 0, \"ticks\": \"\"}, \"colorscale\": [[0.0, \"#0d0887\"], [0.1111111111111111, \"#46039f\"], [0.2222222222222222, \"#7201a8\"], [0.3333333333333333, \"#9c179e\"], [0.4444444444444444, \"#bd3786\"], [0.5555555555555556, \"#d8576b\"], [0.6666666666666666, \"#ed7953\"], [0.7777777777777778, \"#fb9f3a\"], [0.8888888888888888, \"#fdca26\"], [1.0, \"#f0f921\"]], \"type\": \"surface\"}], \"table\": [{\"cells\": {\"fill\": {\"color\": \"#EBF0F8\"}, \"line\": {\"color\": \"white\"}}, \"header\": {\"fill\": {\"color\": \"#C8D4E3\"}, \"line\": {\"color\": \"white\"}}, \"type\": \"table\"}]}, \"layout\": {\"annotationdefaults\": {\"arrowcolor\": \"#2a3f5f\", \"arrowhead\": 0, \"arrowwidth\": 1}, \"coloraxis\": {\"colorbar\": {\"outlinewidth\": 0, \"ticks\": \"\"}}, \"colorscale\": {\"diverging\": [[0, \"#8e0152\"], [0.1, \"#c51b7d\"], [0.2, \"#de77ae\"], [0.3, \"#f1b6da\"], [0.4, \"#fde0ef\"], [0.5, \"#f7f7f7\"], [0.6, \"#e6f5d0\"], [0.7, \"#b8e186\"], [0.8, \"#7fbc41\"], [0.9, \"#4d9221\"], [1, \"#276419\"]], \"sequential\": [[0.0, \"#0d0887\"], [0.1111111111111111, \"#46039f\"], [0.2222222222222222, \"#7201a8\"], [0.3333333333333333, \"#9c179e\"], [0.4444444444444444, \"#bd3786\"], [0.5555555555555556, \"#d8576b\"], [0.6666666666666666, \"#ed7953\"], [0.7777777777777778, \"#fb9f3a\"], [0.8888888888888888, \"#fdca26\"], [1.0, \"#f0f921\"]], \"sequentialminus\": [[0.0, \"#0d0887\"], [0.1111111111111111, \"#46039f\"], [0.2222222222222222, \"#7201a8\"], [0.3333333333333333, \"#9c179e\"], [0.4444444444444444, \"#bd3786\"], [0.5555555555555556, \"#d8576b\"], [0.6666666666666666, \"#ed7953\"], [0.7777777777777778, \"#fb9f3a\"], [0.8888888888888888, \"#fdca26\"], [1.0, \"#f0f921\"]]}, \"colorway\": [\"#636efa\", \"#EF553B\", \"#00cc96\", \"#ab63fa\", \"#FFA15A\", \"#19d3f3\", \"#FF6692\", \"#B6E880\", \"#FF97FF\", \"#FECB52\"], \"font\": {\"color\": \"#2a3f5f\"}, \"geo\": {\"bgcolor\": \"white\", \"lakecolor\": \"white\", \"landcolor\": \"#E5ECF6\", \"showlakes\": true, \"showland\": true, \"subunitcolor\": \"white\"}, \"hoverlabel\": {\"align\": \"left\"}, \"hovermode\": \"closest\", \"mapbox\": {\"style\": \"light\"}, \"paper_bgcolor\": \"white\", \"plot_bgcolor\": \"#E5ECF6\", \"polar\": {\"angularaxis\": {\"gridcolor\": \"white\", \"linecolor\": \"white\", \"ticks\": \"\"}, \"bgcolor\": \"#E5ECF6\", \"radialaxis\": {\"gridcolor\": \"white\", \"linecolor\": \"white\", \"ticks\": \"\"}}, \"scene\": {\"xaxis\": {\"backgroundcolor\": \"#E5ECF6\", \"gridcolor\": \"white\", \"gridwidth\": 2, \"linecolor\": \"white\", \"showbackground\": true, \"ticks\": \"\", \"zerolinecolor\": \"white\"}, \"yaxis\": {\"backgroundcolor\": \"#E5ECF6\", \"gridcolor\": \"white\", \"gridwidth\": 2, \"linecolor\": \"white\", \"showbackground\": true, \"ticks\": \"\", \"zerolinecolor\": \"white\"}, \"zaxis\": {\"backgroundcolor\": \"#E5ECF6\", \"gridcolor\": \"white\", \"gridwidth\": 2, \"linecolor\": \"white\", \"showbackground\": true, \"ticks\": \"\", \"zerolinecolor\": \"white\"}}, \"shapedefaults\": {\"line\": {\"color\": \"#2a3f5f\"}}, \"ternary\": {\"aaxis\": {\"gridcolor\": \"white\", \"linecolor\": \"white\", \"ticks\": \"\"}, \"baxis\": {\"gridcolor\": \"white\", \"linecolor\": \"white\", \"ticks\": \"\"}, \"bgcolor\": \"#E5ECF6\", \"caxis\": {\"gridcolor\": \"white\", \"linecolor\": \"white\", \"ticks\": \"\"}}, \"title\": {\"x\": 0.05}, \"xaxis\": {\"automargin\": true, \"gridcolor\": \"white\", \"linecolor\": \"white\", \"ticks\": \"\", \"title\": {\"standoff\": 15}, \"zerolinecolor\": \"white\", \"zerolinewidth\": 2}, \"yaxis\": {\"automargin\": true, \"gridcolor\": \"white\", \"linecolor\": \"white\", \"ticks\": \"\", \"title\": {\"standoff\": 15}, \"zerolinecolor\": \"white\", \"zerolinewidth\": 2}}}, \"title\": {\"text\": \"Confirmed Cases:\"}, \"width\": 800, \"xaxis\": {\"anchor\": \"y\", \"domain\": [0.0, 1.0], \"title\": {\"text\": \"country\"}}, \"yaxis\": {\"anchor\": \"x\", \"domain\": [0.0, 1.0], \"title\": {\"text\": \"confirmed\"}}},\n",
       "                        {\"responsive\": true}\n",
       "                    ).then(function(){\n",
       "                            \n",
       "var gd = document.getElementById('62085bf6-eaab-48cf-a46f-0306360709ad');\n",
       "var x = new MutationObserver(function (mutations, observer) {{\n",
       "        var display = window.getComputedStyle(gd).display;\n",
       "        if (!display || display === 'none') {{\n",
       "            console.log([gd, 'removed!']);\n",
       "            Plotly.purge(gd);\n",
       "            observer.disconnect();\n",
       "        }}\n",
       "}});\n",
       "\n",
       "// Listen for the removal of the full notebook cells\n",
       "var notebookContainer = gd.closest('#notebook-container');\n",
       "if (notebookContainer) {{\n",
       "    x.observe(notebookContainer, {childList: true});\n",
       "}}\n",
       "\n",
       "// Listen for the clearing of the current output cell\n",
       "var outputEl = gd.closest('.output');\n",
       "if (outputEl) {{\n",
       "    x.observe(outputEl, {childList: true});\n",
       "}}\n",
       "\n",
       "                        })\n",
       "                };\n",
       "                });\n",
       "            </script>\n",
       "        </div>"
      ]
     },
     "metadata": {},
     "output_type": "display_data"
    }
   ],
   "source": [
    "display(HTML(\"<div style = 'background-color: black; padding: 30px '>\" +\n",
    "             \"<span style='color: #fff; font-size:20px;'>Top 10 most affected countries:</span>\" +\n",
    "             \"</div>\")\n",
    "       )\n",
    "px.bar(\n",
    "    sorted_country.head(10),\n",
    "    x = \"country\",\n",
    "    y = \"confirmed\",\n",
    "    title= \"Confirmed Cases:\", # the axis names\n",
    "    color_discrete_sequence=[\"blue\"], \n",
    "    height=500,\n",
    "    width=800\n",
    ")"
   ]
  },
  {
   "cell_type": "code",
   "execution_count": 17,
   "metadata": {},
   "outputs": [
    {
     "data": {
      "application/vnd.plotly.v1+json": {
       "config": {
        "plotlyServerURL": "https://plot.ly"
       },
       "data": [
        {
         "alignmentgroup": "True",
         "hovertemplate": "country=%{x}<br>deaths=%{y}<extra></extra>",
         "legendgroup": "",
         "marker": {
          "color": "red"
         },
         "name": "",
         "offsetgroup": "",
         "orientation": "v",
         "showlegend": false,
         "textposition": "auto",
         "type": "bar",
         "x": [
          "US",
          "Spain",
          "Italy",
          "United Kingdom",
          "France",
          "Germany",
          "Russia",
          "Turkey",
          "Brazil",
          "Iran"
         ],
         "xaxis": "x",
         "y": [
          71022,
          25613,
          29315,
          29502,
          25537,
          6993,
          1451,
          3520,
          7921,
          6340
         ],
         "yaxis": "y"
        }
       ],
       "layout": {
        "barmode": "relative",
        "height": 500,
        "legend": {
         "tracegroupgap": 0
        },
        "template": {
         "data": {
          "bar": [
           {
            "error_x": {
             "color": "#2a3f5f"
            },
            "error_y": {
             "color": "#2a3f5f"
            },
            "marker": {
             "line": {
              "color": "#E5ECF6",
              "width": 0.5
             }
            },
            "type": "bar"
           }
          ],
          "barpolar": [
           {
            "marker": {
             "line": {
              "color": "#E5ECF6",
              "width": 0.5
             }
            },
            "type": "barpolar"
           }
          ],
          "carpet": [
           {
            "aaxis": {
             "endlinecolor": "#2a3f5f",
             "gridcolor": "white",
             "linecolor": "white",
             "minorgridcolor": "white",
             "startlinecolor": "#2a3f5f"
            },
            "baxis": {
             "endlinecolor": "#2a3f5f",
             "gridcolor": "white",
             "linecolor": "white",
             "minorgridcolor": "white",
             "startlinecolor": "#2a3f5f"
            },
            "type": "carpet"
           }
          ],
          "choropleth": [
           {
            "colorbar": {
             "outlinewidth": 0,
             "ticks": ""
            },
            "type": "choropleth"
           }
          ],
          "contour": [
           {
            "colorbar": {
             "outlinewidth": 0,
             "ticks": ""
            },
            "colorscale": [
             [
              0,
              "#0d0887"
             ],
             [
              0.1111111111111111,
              "#46039f"
             ],
             [
              0.2222222222222222,
              "#7201a8"
             ],
             [
              0.3333333333333333,
              "#9c179e"
             ],
             [
              0.4444444444444444,
              "#bd3786"
             ],
             [
              0.5555555555555556,
              "#d8576b"
             ],
             [
              0.6666666666666666,
              "#ed7953"
             ],
             [
              0.7777777777777778,
              "#fb9f3a"
             ],
             [
              0.8888888888888888,
              "#fdca26"
             ],
             [
              1,
              "#f0f921"
             ]
            ],
            "type": "contour"
           }
          ],
          "contourcarpet": [
           {
            "colorbar": {
             "outlinewidth": 0,
             "ticks": ""
            },
            "type": "contourcarpet"
           }
          ],
          "heatmap": [
           {
            "colorbar": {
             "outlinewidth": 0,
             "ticks": ""
            },
            "colorscale": [
             [
              0,
              "#0d0887"
             ],
             [
              0.1111111111111111,
              "#46039f"
             ],
             [
              0.2222222222222222,
              "#7201a8"
             ],
             [
              0.3333333333333333,
              "#9c179e"
             ],
             [
              0.4444444444444444,
              "#bd3786"
             ],
             [
              0.5555555555555556,
              "#d8576b"
             ],
             [
              0.6666666666666666,
              "#ed7953"
             ],
             [
              0.7777777777777778,
              "#fb9f3a"
             ],
             [
              0.8888888888888888,
              "#fdca26"
             ],
             [
              1,
              "#f0f921"
             ]
            ],
            "type": "heatmap"
           }
          ],
          "heatmapgl": [
           {
            "colorbar": {
             "outlinewidth": 0,
             "ticks": ""
            },
            "colorscale": [
             [
              0,
              "#0d0887"
             ],
             [
              0.1111111111111111,
              "#46039f"
             ],
             [
              0.2222222222222222,
              "#7201a8"
             ],
             [
              0.3333333333333333,
              "#9c179e"
             ],
             [
              0.4444444444444444,
              "#bd3786"
             ],
             [
              0.5555555555555556,
              "#d8576b"
             ],
             [
              0.6666666666666666,
              "#ed7953"
             ],
             [
              0.7777777777777778,
              "#fb9f3a"
             ],
             [
              0.8888888888888888,
              "#fdca26"
             ],
             [
              1,
              "#f0f921"
             ]
            ],
            "type": "heatmapgl"
           }
          ],
          "histogram": [
           {
            "marker": {
             "colorbar": {
              "outlinewidth": 0,
              "ticks": ""
             }
            },
            "type": "histogram"
           }
          ],
          "histogram2d": [
           {
            "colorbar": {
             "outlinewidth": 0,
             "ticks": ""
            },
            "colorscale": [
             [
              0,
              "#0d0887"
             ],
             [
              0.1111111111111111,
              "#46039f"
             ],
             [
              0.2222222222222222,
              "#7201a8"
             ],
             [
              0.3333333333333333,
              "#9c179e"
             ],
             [
              0.4444444444444444,
              "#bd3786"
             ],
             [
              0.5555555555555556,
              "#d8576b"
             ],
             [
              0.6666666666666666,
              "#ed7953"
             ],
             [
              0.7777777777777778,
              "#fb9f3a"
             ],
             [
              0.8888888888888888,
              "#fdca26"
             ],
             [
              1,
              "#f0f921"
             ]
            ],
            "type": "histogram2d"
           }
          ],
          "histogram2dcontour": [
           {
            "colorbar": {
             "outlinewidth": 0,
             "ticks": ""
            },
            "colorscale": [
             [
              0,
              "#0d0887"
             ],
             [
              0.1111111111111111,
              "#46039f"
             ],
             [
              0.2222222222222222,
              "#7201a8"
             ],
             [
              0.3333333333333333,
              "#9c179e"
             ],
             [
              0.4444444444444444,
              "#bd3786"
             ],
             [
              0.5555555555555556,
              "#d8576b"
             ],
             [
              0.6666666666666666,
              "#ed7953"
             ],
             [
              0.7777777777777778,
              "#fb9f3a"
             ],
             [
              0.8888888888888888,
              "#fdca26"
             ],
             [
              1,
              "#f0f921"
             ]
            ],
            "type": "histogram2dcontour"
           }
          ],
          "mesh3d": [
           {
            "colorbar": {
             "outlinewidth": 0,
             "ticks": ""
            },
            "type": "mesh3d"
           }
          ],
          "parcoords": [
           {
            "line": {
             "colorbar": {
              "outlinewidth": 0,
              "ticks": ""
             }
            },
            "type": "parcoords"
           }
          ],
          "pie": [
           {
            "automargin": true,
            "type": "pie"
           }
          ],
          "scatter": [
           {
            "marker": {
             "colorbar": {
              "outlinewidth": 0,
              "ticks": ""
             }
            },
            "type": "scatter"
           }
          ],
          "scatter3d": [
           {
            "line": {
             "colorbar": {
              "outlinewidth": 0,
              "ticks": ""
             }
            },
            "marker": {
             "colorbar": {
              "outlinewidth": 0,
              "ticks": ""
             }
            },
            "type": "scatter3d"
           }
          ],
          "scattercarpet": [
           {
            "marker": {
             "colorbar": {
              "outlinewidth": 0,
              "ticks": ""
             }
            },
            "type": "scattercarpet"
           }
          ],
          "scattergeo": [
           {
            "marker": {
             "colorbar": {
              "outlinewidth": 0,
              "ticks": ""
             }
            },
            "type": "scattergeo"
           }
          ],
          "scattergl": [
           {
            "marker": {
             "colorbar": {
              "outlinewidth": 0,
              "ticks": ""
             }
            },
            "type": "scattergl"
           }
          ],
          "scattermapbox": [
           {
            "marker": {
             "colorbar": {
              "outlinewidth": 0,
              "ticks": ""
             }
            },
            "type": "scattermapbox"
           }
          ],
          "scatterpolar": [
           {
            "marker": {
             "colorbar": {
              "outlinewidth": 0,
              "ticks": ""
             }
            },
            "type": "scatterpolar"
           }
          ],
          "scatterpolargl": [
           {
            "marker": {
             "colorbar": {
              "outlinewidth": 0,
              "ticks": ""
             }
            },
            "type": "scatterpolargl"
           }
          ],
          "scatterternary": [
           {
            "marker": {
             "colorbar": {
              "outlinewidth": 0,
              "ticks": ""
             }
            },
            "type": "scatterternary"
           }
          ],
          "surface": [
           {
            "colorbar": {
             "outlinewidth": 0,
             "ticks": ""
            },
            "colorscale": [
             [
              0,
              "#0d0887"
             ],
             [
              0.1111111111111111,
              "#46039f"
             ],
             [
              0.2222222222222222,
              "#7201a8"
             ],
             [
              0.3333333333333333,
              "#9c179e"
             ],
             [
              0.4444444444444444,
              "#bd3786"
             ],
             [
              0.5555555555555556,
              "#d8576b"
             ],
             [
              0.6666666666666666,
              "#ed7953"
             ],
             [
              0.7777777777777778,
              "#fb9f3a"
             ],
             [
              0.8888888888888888,
              "#fdca26"
             ],
             [
              1,
              "#f0f921"
             ]
            ],
            "type": "surface"
           }
          ],
          "table": [
           {
            "cells": {
             "fill": {
              "color": "#EBF0F8"
             },
             "line": {
              "color": "white"
             }
            },
            "header": {
             "fill": {
              "color": "#C8D4E3"
             },
             "line": {
              "color": "white"
             }
            },
            "type": "table"
           }
          ]
         },
         "layout": {
          "annotationdefaults": {
           "arrowcolor": "#2a3f5f",
           "arrowhead": 0,
           "arrowwidth": 1
          },
          "coloraxis": {
           "colorbar": {
            "outlinewidth": 0,
            "ticks": ""
           }
          },
          "colorscale": {
           "diverging": [
            [
             0,
             "#8e0152"
            ],
            [
             0.1,
             "#c51b7d"
            ],
            [
             0.2,
             "#de77ae"
            ],
            [
             0.3,
             "#f1b6da"
            ],
            [
             0.4,
             "#fde0ef"
            ],
            [
             0.5,
             "#f7f7f7"
            ],
            [
             0.6,
             "#e6f5d0"
            ],
            [
             0.7,
             "#b8e186"
            ],
            [
             0.8,
             "#7fbc41"
            ],
            [
             0.9,
             "#4d9221"
            ],
            [
             1,
             "#276419"
            ]
           ],
           "sequential": [
            [
             0,
             "#0d0887"
            ],
            [
             0.1111111111111111,
             "#46039f"
            ],
            [
             0.2222222222222222,
             "#7201a8"
            ],
            [
             0.3333333333333333,
             "#9c179e"
            ],
            [
             0.4444444444444444,
             "#bd3786"
            ],
            [
             0.5555555555555556,
             "#d8576b"
            ],
            [
             0.6666666666666666,
             "#ed7953"
            ],
            [
             0.7777777777777778,
             "#fb9f3a"
            ],
            [
             0.8888888888888888,
             "#fdca26"
            ],
            [
             1,
             "#f0f921"
            ]
           ],
           "sequentialminus": [
            [
             0,
             "#0d0887"
            ],
            [
             0.1111111111111111,
             "#46039f"
            ],
            [
             0.2222222222222222,
             "#7201a8"
            ],
            [
             0.3333333333333333,
             "#9c179e"
            ],
            [
             0.4444444444444444,
             "#bd3786"
            ],
            [
             0.5555555555555556,
             "#d8576b"
            ],
            [
             0.6666666666666666,
             "#ed7953"
            ],
            [
             0.7777777777777778,
             "#fb9f3a"
            ],
            [
             0.8888888888888888,
             "#fdca26"
            ],
            [
             1,
             "#f0f921"
            ]
           ]
          },
          "colorway": [
           "#636efa",
           "#EF553B",
           "#00cc96",
           "#ab63fa",
           "#FFA15A",
           "#19d3f3",
           "#FF6692",
           "#B6E880",
           "#FF97FF",
           "#FECB52"
          ],
          "font": {
           "color": "#2a3f5f"
          },
          "geo": {
           "bgcolor": "white",
           "lakecolor": "white",
           "landcolor": "#E5ECF6",
           "showlakes": true,
           "showland": true,
           "subunitcolor": "white"
          },
          "hoverlabel": {
           "align": "left"
          },
          "hovermode": "closest",
          "mapbox": {
           "style": "light"
          },
          "paper_bgcolor": "white",
          "plot_bgcolor": "#E5ECF6",
          "polar": {
           "angularaxis": {
            "gridcolor": "white",
            "linecolor": "white",
            "ticks": ""
           },
           "bgcolor": "#E5ECF6",
           "radialaxis": {
            "gridcolor": "white",
            "linecolor": "white",
            "ticks": ""
           }
          },
          "scene": {
           "xaxis": {
            "backgroundcolor": "#E5ECF6",
            "gridcolor": "white",
            "gridwidth": 2,
            "linecolor": "white",
            "showbackground": true,
            "ticks": "",
            "zerolinecolor": "white"
           },
           "yaxis": {
            "backgroundcolor": "#E5ECF6",
            "gridcolor": "white",
            "gridwidth": 2,
            "linecolor": "white",
            "showbackground": true,
            "ticks": "",
            "zerolinecolor": "white"
           },
           "zaxis": {
            "backgroundcolor": "#E5ECF6",
            "gridcolor": "white",
            "gridwidth": 2,
            "linecolor": "white",
            "showbackground": true,
            "ticks": "",
            "zerolinecolor": "white"
           }
          },
          "shapedefaults": {
           "line": {
            "color": "#2a3f5f"
           }
          },
          "ternary": {
           "aaxis": {
            "gridcolor": "white",
            "linecolor": "white",
            "ticks": ""
           },
           "baxis": {
            "gridcolor": "white",
            "linecolor": "white",
            "ticks": ""
           },
           "bgcolor": "#E5ECF6",
           "caxis": {
            "gridcolor": "white",
            "linecolor": "white",
            "ticks": ""
           }
          },
          "title": {
           "x": 0.05
          },
          "xaxis": {
           "automargin": true,
           "gridcolor": "white",
           "linecolor": "white",
           "ticks": "",
           "title": {
            "standoff": 15
           },
           "zerolinecolor": "white",
           "zerolinewidth": 2
          },
          "yaxis": {
           "automargin": true,
           "gridcolor": "white",
           "linecolor": "white",
           "ticks": "",
           "title": {
            "standoff": 15
           },
           "zerolinecolor": "white",
           "zerolinewidth": 2
          }
         }
        },
        "title": {
         "text": "Death Cases:"
        },
        "width": 800,
        "xaxis": {
         "anchor": "y",
         "domain": [
          0,
          1
         ],
         "title": {
          "text": "country"
         }
        },
        "yaxis": {
         "anchor": "x",
         "domain": [
          0,
          1
         ],
         "title": {
          "text": "deaths"
         }
        }
       }
      },
      "text/html": [
       "<div>\n",
       "        \n",
       "        \n",
       "            <div id=\"625c82e6-96a2-430c-9759-519cd9db1440\" class=\"plotly-graph-div\" style=\"height:500px; width:800px;\"></div>\n",
       "            <script type=\"text/javascript\">\n",
       "                require([\"plotly\"], function(Plotly) {\n",
       "                    window.PLOTLYENV=window.PLOTLYENV || {};\n",
       "                    \n",
       "                if (document.getElementById(\"625c82e6-96a2-430c-9759-519cd9db1440\")) {\n",
       "                    Plotly.newPlot(\n",
       "                        '625c82e6-96a2-430c-9759-519cd9db1440',\n",
       "                        [{\"alignmentgroup\": \"True\", \"hovertemplate\": \"country=%{x}<br>deaths=%{y}<extra></extra>\", \"legendgroup\": \"\", \"marker\": {\"color\": \"red\"}, \"name\": \"\", \"offsetgroup\": \"\", \"orientation\": \"v\", \"showlegend\": false, \"textposition\": \"auto\", \"type\": \"bar\", \"x\": [\"US\", \"Spain\", \"Italy\", \"United Kingdom\", \"France\", \"Germany\", \"Russia\", \"Turkey\", \"Brazil\", \"Iran\"], \"xaxis\": \"x\", \"y\": [71022, 25613, 29315, 29502, 25537, 6993, 1451, 3520, 7921, 6340], \"yaxis\": \"y\"}],\n",
       "                        {\"barmode\": \"relative\", \"height\": 500, \"legend\": {\"tracegroupgap\": 0}, \"template\": {\"data\": {\"bar\": [{\"error_x\": {\"color\": \"#2a3f5f\"}, \"error_y\": {\"color\": \"#2a3f5f\"}, \"marker\": {\"line\": {\"color\": \"#E5ECF6\", \"width\": 0.5}}, \"type\": \"bar\"}], \"barpolar\": [{\"marker\": {\"line\": {\"color\": \"#E5ECF6\", \"width\": 0.5}}, \"type\": \"barpolar\"}], \"carpet\": [{\"aaxis\": {\"endlinecolor\": \"#2a3f5f\", \"gridcolor\": \"white\", \"linecolor\": \"white\", \"minorgridcolor\": \"white\", \"startlinecolor\": \"#2a3f5f\"}, \"baxis\": {\"endlinecolor\": \"#2a3f5f\", \"gridcolor\": \"white\", \"linecolor\": \"white\", \"minorgridcolor\": \"white\", \"startlinecolor\": \"#2a3f5f\"}, \"type\": \"carpet\"}], \"choropleth\": [{\"colorbar\": {\"outlinewidth\": 0, \"ticks\": \"\"}, \"type\": \"choropleth\"}], \"contour\": [{\"colorbar\": {\"outlinewidth\": 0, \"ticks\": \"\"}, \"colorscale\": [[0.0, \"#0d0887\"], [0.1111111111111111, \"#46039f\"], [0.2222222222222222, \"#7201a8\"], [0.3333333333333333, \"#9c179e\"], [0.4444444444444444, \"#bd3786\"], [0.5555555555555556, \"#d8576b\"], [0.6666666666666666, \"#ed7953\"], [0.7777777777777778, \"#fb9f3a\"], [0.8888888888888888, \"#fdca26\"], [1.0, \"#f0f921\"]], \"type\": \"contour\"}], \"contourcarpet\": [{\"colorbar\": {\"outlinewidth\": 0, \"ticks\": \"\"}, \"type\": \"contourcarpet\"}], \"heatmap\": [{\"colorbar\": {\"outlinewidth\": 0, \"ticks\": \"\"}, \"colorscale\": [[0.0, \"#0d0887\"], [0.1111111111111111, \"#46039f\"], [0.2222222222222222, \"#7201a8\"], [0.3333333333333333, \"#9c179e\"], [0.4444444444444444, \"#bd3786\"], [0.5555555555555556, \"#d8576b\"], [0.6666666666666666, \"#ed7953\"], [0.7777777777777778, \"#fb9f3a\"], [0.8888888888888888, \"#fdca26\"], [1.0, \"#f0f921\"]], \"type\": \"heatmap\"}], \"heatmapgl\": [{\"colorbar\": {\"outlinewidth\": 0, \"ticks\": \"\"}, \"colorscale\": [[0.0, \"#0d0887\"], [0.1111111111111111, \"#46039f\"], [0.2222222222222222, \"#7201a8\"], [0.3333333333333333, \"#9c179e\"], [0.4444444444444444, \"#bd3786\"], [0.5555555555555556, \"#d8576b\"], [0.6666666666666666, \"#ed7953\"], [0.7777777777777778, \"#fb9f3a\"], [0.8888888888888888, \"#fdca26\"], [1.0, \"#f0f921\"]], \"type\": \"heatmapgl\"}], \"histogram\": [{\"marker\": {\"colorbar\": {\"outlinewidth\": 0, \"ticks\": \"\"}}, \"type\": \"histogram\"}], \"histogram2d\": [{\"colorbar\": {\"outlinewidth\": 0, \"ticks\": \"\"}, \"colorscale\": [[0.0, \"#0d0887\"], [0.1111111111111111, \"#46039f\"], [0.2222222222222222, \"#7201a8\"], [0.3333333333333333, \"#9c179e\"], [0.4444444444444444, \"#bd3786\"], [0.5555555555555556, \"#d8576b\"], [0.6666666666666666, \"#ed7953\"], [0.7777777777777778, \"#fb9f3a\"], [0.8888888888888888, \"#fdca26\"], [1.0, \"#f0f921\"]], \"type\": \"histogram2d\"}], \"histogram2dcontour\": [{\"colorbar\": {\"outlinewidth\": 0, \"ticks\": \"\"}, \"colorscale\": [[0.0, \"#0d0887\"], [0.1111111111111111, \"#46039f\"], [0.2222222222222222, \"#7201a8\"], [0.3333333333333333, \"#9c179e\"], [0.4444444444444444, \"#bd3786\"], [0.5555555555555556, \"#d8576b\"], [0.6666666666666666, \"#ed7953\"], [0.7777777777777778, \"#fb9f3a\"], [0.8888888888888888, \"#fdca26\"], [1.0, \"#f0f921\"]], \"type\": \"histogram2dcontour\"}], \"mesh3d\": [{\"colorbar\": {\"outlinewidth\": 0, \"ticks\": \"\"}, \"type\": \"mesh3d\"}], \"parcoords\": [{\"line\": {\"colorbar\": {\"outlinewidth\": 0, \"ticks\": \"\"}}, \"type\": \"parcoords\"}], \"pie\": [{\"automargin\": true, \"type\": \"pie\"}], \"scatter\": [{\"marker\": {\"colorbar\": {\"outlinewidth\": 0, \"ticks\": \"\"}}, \"type\": \"scatter\"}], \"scatter3d\": [{\"line\": {\"colorbar\": {\"outlinewidth\": 0, \"ticks\": \"\"}}, \"marker\": {\"colorbar\": {\"outlinewidth\": 0, \"ticks\": \"\"}}, \"type\": \"scatter3d\"}], \"scattercarpet\": [{\"marker\": {\"colorbar\": {\"outlinewidth\": 0, \"ticks\": \"\"}}, \"type\": \"scattercarpet\"}], \"scattergeo\": [{\"marker\": {\"colorbar\": {\"outlinewidth\": 0, \"ticks\": \"\"}}, \"type\": \"scattergeo\"}], \"scattergl\": [{\"marker\": {\"colorbar\": {\"outlinewidth\": 0, \"ticks\": \"\"}}, \"type\": \"scattergl\"}], \"scattermapbox\": [{\"marker\": {\"colorbar\": {\"outlinewidth\": 0, \"ticks\": \"\"}}, \"type\": \"scattermapbox\"}], \"scatterpolar\": [{\"marker\": {\"colorbar\": {\"outlinewidth\": 0, \"ticks\": \"\"}}, \"type\": \"scatterpolar\"}], \"scatterpolargl\": [{\"marker\": {\"colorbar\": {\"outlinewidth\": 0, \"ticks\": \"\"}}, \"type\": \"scatterpolargl\"}], \"scatterternary\": [{\"marker\": {\"colorbar\": {\"outlinewidth\": 0, \"ticks\": \"\"}}, \"type\": \"scatterternary\"}], \"surface\": [{\"colorbar\": {\"outlinewidth\": 0, \"ticks\": \"\"}, \"colorscale\": [[0.0, \"#0d0887\"], [0.1111111111111111, \"#46039f\"], [0.2222222222222222, \"#7201a8\"], [0.3333333333333333, \"#9c179e\"], [0.4444444444444444, \"#bd3786\"], [0.5555555555555556, \"#d8576b\"], [0.6666666666666666, \"#ed7953\"], [0.7777777777777778, \"#fb9f3a\"], [0.8888888888888888, \"#fdca26\"], [1.0, \"#f0f921\"]], \"type\": \"surface\"}], \"table\": [{\"cells\": {\"fill\": {\"color\": \"#EBF0F8\"}, \"line\": {\"color\": \"white\"}}, \"header\": {\"fill\": {\"color\": \"#C8D4E3\"}, \"line\": {\"color\": \"white\"}}, \"type\": \"table\"}]}, \"layout\": {\"annotationdefaults\": {\"arrowcolor\": \"#2a3f5f\", \"arrowhead\": 0, \"arrowwidth\": 1}, \"coloraxis\": {\"colorbar\": {\"outlinewidth\": 0, \"ticks\": \"\"}}, \"colorscale\": {\"diverging\": [[0, \"#8e0152\"], [0.1, \"#c51b7d\"], [0.2, \"#de77ae\"], [0.3, \"#f1b6da\"], [0.4, \"#fde0ef\"], [0.5, \"#f7f7f7\"], [0.6, \"#e6f5d0\"], [0.7, \"#b8e186\"], [0.8, \"#7fbc41\"], [0.9, \"#4d9221\"], [1, \"#276419\"]], \"sequential\": [[0.0, \"#0d0887\"], [0.1111111111111111, \"#46039f\"], [0.2222222222222222, \"#7201a8\"], [0.3333333333333333, \"#9c179e\"], [0.4444444444444444, \"#bd3786\"], [0.5555555555555556, \"#d8576b\"], [0.6666666666666666, \"#ed7953\"], [0.7777777777777778, \"#fb9f3a\"], [0.8888888888888888, \"#fdca26\"], [1.0, \"#f0f921\"]], \"sequentialminus\": [[0.0, \"#0d0887\"], [0.1111111111111111, \"#46039f\"], [0.2222222222222222, \"#7201a8\"], [0.3333333333333333, \"#9c179e\"], [0.4444444444444444, \"#bd3786\"], [0.5555555555555556, \"#d8576b\"], [0.6666666666666666, \"#ed7953\"], [0.7777777777777778, \"#fb9f3a\"], [0.8888888888888888, \"#fdca26\"], [1.0, \"#f0f921\"]]}, \"colorway\": [\"#636efa\", \"#EF553B\", \"#00cc96\", \"#ab63fa\", \"#FFA15A\", \"#19d3f3\", \"#FF6692\", \"#B6E880\", \"#FF97FF\", \"#FECB52\"], \"font\": {\"color\": \"#2a3f5f\"}, \"geo\": {\"bgcolor\": \"white\", \"lakecolor\": \"white\", \"landcolor\": \"#E5ECF6\", \"showlakes\": true, \"showland\": true, \"subunitcolor\": \"white\"}, \"hoverlabel\": {\"align\": \"left\"}, \"hovermode\": \"closest\", \"mapbox\": {\"style\": \"light\"}, \"paper_bgcolor\": \"white\", \"plot_bgcolor\": \"#E5ECF6\", \"polar\": {\"angularaxis\": {\"gridcolor\": \"white\", \"linecolor\": \"white\", \"ticks\": \"\"}, \"bgcolor\": \"#E5ECF6\", \"radialaxis\": {\"gridcolor\": \"white\", \"linecolor\": \"white\", \"ticks\": \"\"}}, \"scene\": {\"xaxis\": {\"backgroundcolor\": \"#E5ECF6\", \"gridcolor\": \"white\", \"gridwidth\": 2, \"linecolor\": \"white\", \"showbackground\": true, \"ticks\": \"\", \"zerolinecolor\": \"white\"}, \"yaxis\": {\"backgroundcolor\": \"#E5ECF6\", \"gridcolor\": \"white\", \"gridwidth\": 2, \"linecolor\": \"white\", \"showbackground\": true, \"ticks\": \"\", \"zerolinecolor\": \"white\"}, \"zaxis\": {\"backgroundcolor\": \"#E5ECF6\", \"gridcolor\": \"white\", \"gridwidth\": 2, \"linecolor\": \"white\", \"showbackground\": true, \"ticks\": \"\", \"zerolinecolor\": \"white\"}}, \"shapedefaults\": {\"line\": {\"color\": \"#2a3f5f\"}}, \"ternary\": {\"aaxis\": {\"gridcolor\": \"white\", \"linecolor\": \"white\", \"ticks\": \"\"}, \"baxis\": {\"gridcolor\": \"white\", \"linecolor\": \"white\", \"ticks\": \"\"}, \"bgcolor\": \"#E5ECF6\", \"caxis\": {\"gridcolor\": \"white\", \"linecolor\": \"white\", \"ticks\": \"\"}}, \"title\": {\"x\": 0.05}, \"xaxis\": {\"automargin\": true, \"gridcolor\": \"white\", \"linecolor\": \"white\", \"ticks\": \"\", \"title\": {\"standoff\": 15}, \"zerolinecolor\": \"white\", \"zerolinewidth\": 2}, \"yaxis\": {\"automargin\": true, \"gridcolor\": \"white\", \"linecolor\": \"white\", \"ticks\": \"\", \"title\": {\"standoff\": 15}, \"zerolinecolor\": \"white\", \"zerolinewidth\": 2}}}, \"title\": {\"text\": \"Death Cases:\"}, \"width\": 800, \"xaxis\": {\"anchor\": \"y\", \"domain\": [0.0, 1.0], \"title\": {\"text\": \"country\"}}, \"yaxis\": {\"anchor\": \"x\", \"domain\": [0.0, 1.0], \"title\": {\"text\": \"deaths\"}}},\n",
       "                        {\"responsive\": true}\n",
       "                    ).then(function(){\n",
       "                            \n",
       "var gd = document.getElementById('625c82e6-96a2-430c-9759-519cd9db1440');\n",
       "var x = new MutationObserver(function (mutations, observer) {{\n",
       "        var display = window.getComputedStyle(gd).display;\n",
       "        if (!display || display === 'none') {{\n",
       "            console.log([gd, 'removed!']);\n",
       "            Plotly.purge(gd);\n",
       "            observer.disconnect();\n",
       "        }}\n",
       "}});\n",
       "\n",
       "// Listen for the removal of the full notebook cells\n",
       "var notebookContainer = gd.closest('#notebook-container');\n",
       "if (notebookContainer) {{\n",
       "    x.observe(notebookContainer, {childList: true});\n",
       "}}\n",
       "\n",
       "// Listen for the clearing of the current output cell\n",
       "var outputEl = gd.closest('.output');\n",
       "if (outputEl) {{\n",
       "    x.observe(outputEl, {childList: true});\n",
       "}}\n",
       "\n",
       "                        })\n",
       "                };\n",
       "                });\n",
       "            </script>\n",
       "        </div>"
      ]
     },
     "metadata": {},
     "output_type": "display_data"
    }
   ],
   "source": [
    "px.bar(\n",
    "    sorted_country.head(10),\n",
    "    x = \"country\",\n",
    "    y = \"deaths\",\n",
    "    title= \"Death Cases:\", # the axis names\n",
    "    color_discrete_sequence=[\"red\"], \n",
    "    height=500,\n",
    "    width=800\n",
    ")"
   ]
  },
  {
   "cell_type": "code",
   "execution_count": 18,
   "metadata": {},
   "outputs": [
    {
     "data": {
      "application/vnd.plotly.v1+json": {
       "config": {
        "plotlyServerURL": "https://plot.ly"
       },
       "data": [
        {
         "alignmentgroup": "True",
         "hovertemplate": "country=%{x}<br>recovered=%{y}<extra></extra>",
         "legendgroup": "",
         "marker": {
          "color": "green"
         },
         "name": "",
         "offsetgroup": "",
         "orientation": "v",
         "showlegend": false,
         "textposition": "auto",
         "type": "bar",
         "x": [
          "US",
          "Spain",
          "Italy",
          "United Kingdom",
          "France",
          "Germany",
          "Russia",
          "Turkey",
          "Brazil",
          "Iran"
         ],
         "xaxis": "x",
         "y": [
          189791,
          123486,
          85231,
          910,
          52842,
          135100,
          19865,
          73285,
          48221,
          80475
         ],
         "yaxis": "y"
        }
       ],
       "layout": {
        "barmode": "relative",
        "height": 500,
        "legend": {
         "tracegroupgap": 0
        },
        "template": {
         "data": {
          "bar": [
           {
            "error_x": {
             "color": "#2a3f5f"
            },
            "error_y": {
             "color": "#2a3f5f"
            },
            "marker": {
             "line": {
              "color": "#E5ECF6",
              "width": 0.5
             }
            },
            "type": "bar"
           }
          ],
          "barpolar": [
           {
            "marker": {
             "line": {
              "color": "#E5ECF6",
              "width": 0.5
             }
            },
            "type": "barpolar"
           }
          ],
          "carpet": [
           {
            "aaxis": {
             "endlinecolor": "#2a3f5f",
             "gridcolor": "white",
             "linecolor": "white",
             "minorgridcolor": "white",
             "startlinecolor": "#2a3f5f"
            },
            "baxis": {
             "endlinecolor": "#2a3f5f",
             "gridcolor": "white",
             "linecolor": "white",
             "minorgridcolor": "white",
             "startlinecolor": "#2a3f5f"
            },
            "type": "carpet"
           }
          ],
          "choropleth": [
           {
            "colorbar": {
             "outlinewidth": 0,
             "ticks": ""
            },
            "type": "choropleth"
           }
          ],
          "contour": [
           {
            "colorbar": {
             "outlinewidth": 0,
             "ticks": ""
            },
            "colorscale": [
             [
              0,
              "#0d0887"
             ],
             [
              0.1111111111111111,
              "#46039f"
             ],
             [
              0.2222222222222222,
              "#7201a8"
             ],
             [
              0.3333333333333333,
              "#9c179e"
             ],
             [
              0.4444444444444444,
              "#bd3786"
             ],
             [
              0.5555555555555556,
              "#d8576b"
             ],
             [
              0.6666666666666666,
              "#ed7953"
             ],
             [
              0.7777777777777778,
              "#fb9f3a"
             ],
             [
              0.8888888888888888,
              "#fdca26"
             ],
             [
              1,
              "#f0f921"
             ]
            ],
            "type": "contour"
           }
          ],
          "contourcarpet": [
           {
            "colorbar": {
             "outlinewidth": 0,
             "ticks": ""
            },
            "type": "contourcarpet"
           }
          ],
          "heatmap": [
           {
            "colorbar": {
             "outlinewidth": 0,
             "ticks": ""
            },
            "colorscale": [
             [
              0,
              "#0d0887"
             ],
             [
              0.1111111111111111,
              "#46039f"
             ],
             [
              0.2222222222222222,
              "#7201a8"
             ],
             [
              0.3333333333333333,
              "#9c179e"
             ],
             [
              0.4444444444444444,
              "#bd3786"
             ],
             [
              0.5555555555555556,
              "#d8576b"
             ],
             [
              0.6666666666666666,
              "#ed7953"
             ],
             [
              0.7777777777777778,
              "#fb9f3a"
             ],
             [
              0.8888888888888888,
              "#fdca26"
             ],
             [
              1,
              "#f0f921"
             ]
            ],
            "type": "heatmap"
           }
          ],
          "heatmapgl": [
           {
            "colorbar": {
             "outlinewidth": 0,
             "ticks": ""
            },
            "colorscale": [
             [
              0,
              "#0d0887"
             ],
             [
              0.1111111111111111,
              "#46039f"
             ],
             [
              0.2222222222222222,
              "#7201a8"
             ],
             [
              0.3333333333333333,
              "#9c179e"
             ],
             [
              0.4444444444444444,
              "#bd3786"
             ],
             [
              0.5555555555555556,
              "#d8576b"
             ],
             [
              0.6666666666666666,
              "#ed7953"
             ],
             [
              0.7777777777777778,
              "#fb9f3a"
             ],
             [
              0.8888888888888888,
              "#fdca26"
             ],
             [
              1,
              "#f0f921"
             ]
            ],
            "type": "heatmapgl"
           }
          ],
          "histogram": [
           {
            "marker": {
             "colorbar": {
              "outlinewidth": 0,
              "ticks": ""
             }
            },
            "type": "histogram"
           }
          ],
          "histogram2d": [
           {
            "colorbar": {
             "outlinewidth": 0,
             "ticks": ""
            },
            "colorscale": [
             [
              0,
              "#0d0887"
             ],
             [
              0.1111111111111111,
              "#46039f"
             ],
             [
              0.2222222222222222,
              "#7201a8"
             ],
             [
              0.3333333333333333,
              "#9c179e"
             ],
             [
              0.4444444444444444,
              "#bd3786"
             ],
             [
              0.5555555555555556,
              "#d8576b"
             ],
             [
              0.6666666666666666,
              "#ed7953"
             ],
             [
              0.7777777777777778,
              "#fb9f3a"
             ],
             [
              0.8888888888888888,
              "#fdca26"
             ],
             [
              1,
              "#f0f921"
             ]
            ],
            "type": "histogram2d"
           }
          ],
          "histogram2dcontour": [
           {
            "colorbar": {
             "outlinewidth": 0,
             "ticks": ""
            },
            "colorscale": [
             [
              0,
              "#0d0887"
             ],
             [
              0.1111111111111111,
              "#46039f"
             ],
             [
              0.2222222222222222,
              "#7201a8"
             ],
             [
              0.3333333333333333,
              "#9c179e"
             ],
             [
              0.4444444444444444,
              "#bd3786"
             ],
             [
              0.5555555555555556,
              "#d8576b"
             ],
             [
              0.6666666666666666,
              "#ed7953"
             ],
             [
              0.7777777777777778,
              "#fb9f3a"
             ],
             [
              0.8888888888888888,
              "#fdca26"
             ],
             [
              1,
              "#f0f921"
             ]
            ],
            "type": "histogram2dcontour"
           }
          ],
          "mesh3d": [
           {
            "colorbar": {
             "outlinewidth": 0,
             "ticks": ""
            },
            "type": "mesh3d"
           }
          ],
          "parcoords": [
           {
            "line": {
             "colorbar": {
              "outlinewidth": 0,
              "ticks": ""
             }
            },
            "type": "parcoords"
           }
          ],
          "pie": [
           {
            "automargin": true,
            "type": "pie"
           }
          ],
          "scatter": [
           {
            "marker": {
             "colorbar": {
              "outlinewidth": 0,
              "ticks": ""
             }
            },
            "type": "scatter"
           }
          ],
          "scatter3d": [
           {
            "line": {
             "colorbar": {
              "outlinewidth": 0,
              "ticks": ""
             }
            },
            "marker": {
             "colorbar": {
              "outlinewidth": 0,
              "ticks": ""
             }
            },
            "type": "scatter3d"
           }
          ],
          "scattercarpet": [
           {
            "marker": {
             "colorbar": {
              "outlinewidth": 0,
              "ticks": ""
             }
            },
            "type": "scattercarpet"
           }
          ],
          "scattergeo": [
           {
            "marker": {
             "colorbar": {
              "outlinewidth": 0,
              "ticks": ""
             }
            },
            "type": "scattergeo"
           }
          ],
          "scattergl": [
           {
            "marker": {
             "colorbar": {
              "outlinewidth": 0,
              "ticks": ""
             }
            },
            "type": "scattergl"
           }
          ],
          "scattermapbox": [
           {
            "marker": {
             "colorbar": {
              "outlinewidth": 0,
              "ticks": ""
             }
            },
            "type": "scattermapbox"
           }
          ],
          "scatterpolar": [
           {
            "marker": {
             "colorbar": {
              "outlinewidth": 0,
              "ticks": ""
             }
            },
            "type": "scatterpolar"
           }
          ],
          "scatterpolargl": [
           {
            "marker": {
             "colorbar": {
              "outlinewidth": 0,
              "ticks": ""
             }
            },
            "type": "scatterpolargl"
           }
          ],
          "scatterternary": [
           {
            "marker": {
             "colorbar": {
              "outlinewidth": 0,
              "ticks": ""
             }
            },
            "type": "scatterternary"
           }
          ],
          "surface": [
           {
            "colorbar": {
             "outlinewidth": 0,
             "ticks": ""
            },
            "colorscale": [
             [
              0,
              "#0d0887"
             ],
             [
              0.1111111111111111,
              "#46039f"
             ],
             [
              0.2222222222222222,
              "#7201a8"
             ],
             [
              0.3333333333333333,
              "#9c179e"
             ],
             [
              0.4444444444444444,
              "#bd3786"
             ],
             [
              0.5555555555555556,
              "#d8576b"
             ],
             [
              0.6666666666666666,
              "#ed7953"
             ],
             [
              0.7777777777777778,
              "#fb9f3a"
             ],
             [
              0.8888888888888888,
              "#fdca26"
             ],
             [
              1,
              "#f0f921"
             ]
            ],
            "type": "surface"
           }
          ],
          "table": [
           {
            "cells": {
             "fill": {
              "color": "#EBF0F8"
             },
             "line": {
              "color": "white"
             }
            },
            "header": {
             "fill": {
              "color": "#C8D4E3"
             },
             "line": {
              "color": "white"
             }
            },
            "type": "table"
           }
          ]
         },
         "layout": {
          "annotationdefaults": {
           "arrowcolor": "#2a3f5f",
           "arrowhead": 0,
           "arrowwidth": 1
          },
          "coloraxis": {
           "colorbar": {
            "outlinewidth": 0,
            "ticks": ""
           }
          },
          "colorscale": {
           "diverging": [
            [
             0,
             "#8e0152"
            ],
            [
             0.1,
             "#c51b7d"
            ],
            [
             0.2,
             "#de77ae"
            ],
            [
             0.3,
             "#f1b6da"
            ],
            [
             0.4,
             "#fde0ef"
            ],
            [
             0.5,
             "#f7f7f7"
            ],
            [
             0.6,
             "#e6f5d0"
            ],
            [
             0.7,
             "#b8e186"
            ],
            [
             0.8,
             "#7fbc41"
            ],
            [
             0.9,
             "#4d9221"
            ],
            [
             1,
             "#276419"
            ]
           ],
           "sequential": [
            [
             0,
             "#0d0887"
            ],
            [
             0.1111111111111111,
             "#46039f"
            ],
            [
             0.2222222222222222,
             "#7201a8"
            ],
            [
             0.3333333333333333,
             "#9c179e"
            ],
            [
             0.4444444444444444,
             "#bd3786"
            ],
            [
             0.5555555555555556,
             "#d8576b"
            ],
            [
             0.6666666666666666,
             "#ed7953"
            ],
            [
             0.7777777777777778,
             "#fb9f3a"
            ],
            [
             0.8888888888888888,
             "#fdca26"
            ],
            [
             1,
             "#f0f921"
            ]
           ],
           "sequentialminus": [
            [
             0,
             "#0d0887"
            ],
            [
             0.1111111111111111,
             "#46039f"
            ],
            [
             0.2222222222222222,
             "#7201a8"
            ],
            [
             0.3333333333333333,
             "#9c179e"
            ],
            [
             0.4444444444444444,
             "#bd3786"
            ],
            [
             0.5555555555555556,
             "#d8576b"
            ],
            [
             0.6666666666666666,
             "#ed7953"
            ],
            [
             0.7777777777777778,
             "#fb9f3a"
            ],
            [
             0.8888888888888888,
             "#fdca26"
            ],
            [
             1,
             "#f0f921"
            ]
           ]
          },
          "colorway": [
           "#636efa",
           "#EF553B",
           "#00cc96",
           "#ab63fa",
           "#FFA15A",
           "#19d3f3",
           "#FF6692",
           "#B6E880",
           "#FF97FF",
           "#FECB52"
          ],
          "font": {
           "color": "#2a3f5f"
          },
          "geo": {
           "bgcolor": "white",
           "lakecolor": "white",
           "landcolor": "#E5ECF6",
           "showlakes": true,
           "showland": true,
           "subunitcolor": "white"
          },
          "hoverlabel": {
           "align": "left"
          },
          "hovermode": "closest",
          "mapbox": {
           "style": "light"
          },
          "paper_bgcolor": "white",
          "plot_bgcolor": "#E5ECF6",
          "polar": {
           "angularaxis": {
            "gridcolor": "white",
            "linecolor": "white",
            "ticks": ""
           },
           "bgcolor": "#E5ECF6",
           "radialaxis": {
            "gridcolor": "white",
            "linecolor": "white",
            "ticks": ""
           }
          },
          "scene": {
           "xaxis": {
            "backgroundcolor": "#E5ECF6",
            "gridcolor": "white",
            "gridwidth": 2,
            "linecolor": "white",
            "showbackground": true,
            "ticks": "",
            "zerolinecolor": "white"
           },
           "yaxis": {
            "backgroundcolor": "#E5ECF6",
            "gridcolor": "white",
            "gridwidth": 2,
            "linecolor": "white",
            "showbackground": true,
            "ticks": "",
            "zerolinecolor": "white"
           },
           "zaxis": {
            "backgroundcolor": "#E5ECF6",
            "gridcolor": "white",
            "gridwidth": 2,
            "linecolor": "white",
            "showbackground": true,
            "ticks": "",
            "zerolinecolor": "white"
           }
          },
          "shapedefaults": {
           "line": {
            "color": "#2a3f5f"
           }
          },
          "ternary": {
           "aaxis": {
            "gridcolor": "white",
            "linecolor": "white",
            "ticks": ""
           },
           "baxis": {
            "gridcolor": "white",
            "linecolor": "white",
            "ticks": ""
           },
           "bgcolor": "#E5ECF6",
           "caxis": {
            "gridcolor": "white",
            "linecolor": "white",
            "ticks": ""
           }
          },
          "title": {
           "x": 0.05
          },
          "xaxis": {
           "automargin": true,
           "gridcolor": "white",
           "linecolor": "white",
           "ticks": "",
           "title": {
            "standoff": 15
           },
           "zerolinecolor": "white",
           "zerolinewidth": 2
          },
          "yaxis": {
           "automargin": true,
           "gridcolor": "white",
           "linecolor": "white",
           "ticks": "",
           "title": {
            "standoff": 15
           },
           "zerolinecolor": "white",
           "zerolinewidth": 2
          }
         }
        },
        "title": {
         "text": "Recovery rate:"
        },
        "width": 800,
        "xaxis": {
         "anchor": "y",
         "domain": [
          0,
          1
         ],
         "title": {
          "text": "country"
         }
        },
        "yaxis": {
         "anchor": "x",
         "domain": [
          0,
          1
         ],
         "title": {
          "text": "recovered"
         }
        }
       }
      },
      "text/html": [
       "<div>\n",
       "        \n",
       "        \n",
       "            <div id=\"d6f3d0ce-03ba-4b5f-bff9-77d4a521d310\" class=\"plotly-graph-div\" style=\"height:500px; width:800px;\"></div>\n",
       "            <script type=\"text/javascript\">\n",
       "                require([\"plotly\"], function(Plotly) {\n",
       "                    window.PLOTLYENV=window.PLOTLYENV || {};\n",
       "                    \n",
       "                if (document.getElementById(\"d6f3d0ce-03ba-4b5f-bff9-77d4a521d310\")) {\n",
       "                    Plotly.newPlot(\n",
       "                        'd6f3d0ce-03ba-4b5f-bff9-77d4a521d310',\n",
       "                        [{\"alignmentgroup\": \"True\", \"hovertemplate\": \"country=%{x}<br>recovered=%{y}<extra></extra>\", \"legendgroup\": \"\", \"marker\": {\"color\": \"green\"}, \"name\": \"\", \"offsetgroup\": \"\", \"orientation\": \"v\", \"showlegend\": false, \"textposition\": \"auto\", \"type\": \"bar\", \"x\": [\"US\", \"Spain\", \"Italy\", \"United Kingdom\", \"France\", \"Germany\", \"Russia\", \"Turkey\", \"Brazil\", \"Iran\"], \"xaxis\": \"x\", \"y\": [189791, 123486, 85231, 910, 52842, 135100, 19865, 73285, 48221, 80475], \"yaxis\": \"y\"}],\n",
       "                        {\"barmode\": \"relative\", \"height\": 500, \"legend\": {\"tracegroupgap\": 0}, \"template\": {\"data\": {\"bar\": [{\"error_x\": {\"color\": \"#2a3f5f\"}, \"error_y\": {\"color\": \"#2a3f5f\"}, \"marker\": {\"line\": {\"color\": \"#E5ECF6\", \"width\": 0.5}}, \"type\": \"bar\"}], \"barpolar\": [{\"marker\": {\"line\": {\"color\": \"#E5ECF6\", \"width\": 0.5}}, \"type\": \"barpolar\"}], \"carpet\": [{\"aaxis\": {\"endlinecolor\": \"#2a3f5f\", \"gridcolor\": \"white\", \"linecolor\": \"white\", \"minorgridcolor\": \"white\", \"startlinecolor\": \"#2a3f5f\"}, \"baxis\": {\"endlinecolor\": \"#2a3f5f\", \"gridcolor\": \"white\", \"linecolor\": \"white\", \"minorgridcolor\": \"white\", \"startlinecolor\": \"#2a3f5f\"}, \"type\": \"carpet\"}], \"choropleth\": [{\"colorbar\": {\"outlinewidth\": 0, \"ticks\": \"\"}, \"type\": \"choropleth\"}], \"contour\": [{\"colorbar\": {\"outlinewidth\": 0, \"ticks\": \"\"}, \"colorscale\": [[0.0, \"#0d0887\"], [0.1111111111111111, \"#46039f\"], [0.2222222222222222, \"#7201a8\"], [0.3333333333333333, \"#9c179e\"], [0.4444444444444444, \"#bd3786\"], [0.5555555555555556, \"#d8576b\"], [0.6666666666666666, \"#ed7953\"], [0.7777777777777778, \"#fb9f3a\"], [0.8888888888888888, \"#fdca26\"], [1.0, \"#f0f921\"]], \"type\": \"contour\"}], \"contourcarpet\": [{\"colorbar\": {\"outlinewidth\": 0, \"ticks\": \"\"}, \"type\": \"contourcarpet\"}], \"heatmap\": [{\"colorbar\": {\"outlinewidth\": 0, \"ticks\": \"\"}, \"colorscale\": [[0.0, \"#0d0887\"], [0.1111111111111111, \"#46039f\"], [0.2222222222222222, \"#7201a8\"], [0.3333333333333333, \"#9c179e\"], [0.4444444444444444, \"#bd3786\"], [0.5555555555555556, \"#d8576b\"], [0.6666666666666666, \"#ed7953\"], [0.7777777777777778, \"#fb9f3a\"], [0.8888888888888888, \"#fdca26\"], [1.0, \"#f0f921\"]], \"type\": \"heatmap\"}], \"heatmapgl\": [{\"colorbar\": {\"outlinewidth\": 0, \"ticks\": \"\"}, \"colorscale\": [[0.0, \"#0d0887\"], [0.1111111111111111, \"#46039f\"], [0.2222222222222222, \"#7201a8\"], [0.3333333333333333, \"#9c179e\"], [0.4444444444444444, \"#bd3786\"], [0.5555555555555556, \"#d8576b\"], [0.6666666666666666, \"#ed7953\"], [0.7777777777777778, \"#fb9f3a\"], [0.8888888888888888, \"#fdca26\"], [1.0, \"#f0f921\"]], \"type\": \"heatmapgl\"}], \"histogram\": [{\"marker\": {\"colorbar\": {\"outlinewidth\": 0, \"ticks\": \"\"}}, \"type\": \"histogram\"}], \"histogram2d\": [{\"colorbar\": {\"outlinewidth\": 0, \"ticks\": \"\"}, \"colorscale\": [[0.0, \"#0d0887\"], [0.1111111111111111, \"#46039f\"], [0.2222222222222222, \"#7201a8\"], [0.3333333333333333, \"#9c179e\"], [0.4444444444444444, \"#bd3786\"], [0.5555555555555556, \"#d8576b\"], [0.6666666666666666, \"#ed7953\"], [0.7777777777777778, \"#fb9f3a\"], [0.8888888888888888, \"#fdca26\"], [1.0, \"#f0f921\"]], \"type\": \"histogram2d\"}], \"histogram2dcontour\": [{\"colorbar\": {\"outlinewidth\": 0, \"ticks\": \"\"}, \"colorscale\": [[0.0, \"#0d0887\"], [0.1111111111111111, \"#46039f\"], [0.2222222222222222, \"#7201a8\"], [0.3333333333333333, \"#9c179e\"], [0.4444444444444444, \"#bd3786\"], [0.5555555555555556, \"#d8576b\"], [0.6666666666666666, \"#ed7953\"], [0.7777777777777778, \"#fb9f3a\"], [0.8888888888888888, \"#fdca26\"], [1.0, \"#f0f921\"]], \"type\": \"histogram2dcontour\"}], \"mesh3d\": [{\"colorbar\": {\"outlinewidth\": 0, \"ticks\": \"\"}, \"type\": \"mesh3d\"}], \"parcoords\": [{\"line\": {\"colorbar\": {\"outlinewidth\": 0, \"ticks\": \"\"}}, \"type\": \"parcoords\"}], \"pie\": [{\"automargin\": true, \"type\": \"pie\"}], \"scatter\": [{\"marker\": {\"colorbar\": {\"outlinewidth\": 0, \"ticks\": \"\"}}, \"type\": \"scatter\"}], \"scatter3d\": [{\"line\": {\"colorbar\": {\"outlinewidth\": 0, \"ticks\": \"\"}}, \"marker\": {\"colorbar\": {\"outlinewidth\": 0, \"ticks\": \"\"}}, \"type\": \"scatter3d\"}], \"scattercarpet\": [{\"marker\": {\"colorbar\": {\"outlinewidth\": 0, \"ticks\": \"\"}}, \"type\": \"scattercarpet\"}], \"scattergeo\": [{\"marker\": {\"colorbar\": {\"outlinewidth\": 0, \"ticks\": \"\"}}, \"type\": \"scattergeo\"}], \"scattergl\": [{\"marker\": {\"colorbar\": {\"outlinewidth\": 0, \"ticks\": \"\"}}, \"type\": \"scattergl\"}], \"scattermapbox\": [{\"marker\": {\"colorbar\": {\"outlinewidth\": 0, \"ticks\": \"\"}}, \"type\": \"scattermapbox\"}], \"scatterpolar\": [{\"marker\": {\"colorbar\": {\"outlinewidth\": 0, \"ticks\": \"\"}}, \"type\": \"scatterpolar\"}], \"scatterpolargl\": [{\"marker\": {\"colorbar\": {\"outlinewidth\": 0, \"ticks\": \"\"}}, \"type\": \"scatterpolargl\"}], \"scatterternary\": [{\"marker\": {\"colorbar\": {\"outlinewidth\": 0, \"ticks\": \"\"}}, \"type\": \"scatterternary\"}], \"surface\": [{\"colorbar\": {\"outlinewidth\": 0, \"ticks\": \"\"}, \"colorscale\": [[0.0, \"#0d0887\"], [0.1111111111111111, \"#46039f\"], [0.2222222222222222, \"#7201a8\"], [0.3333333333333333, \"#9c179e\"], [0.4444444444444444, \"#bd3786\"], [0.5555555555555556, \"#d8576b\"], [0.6666666666666666, \"#ed7953\"], [0.7777777777777778, \"#fb9f3a\"], [0.8888888888888888, \"#fdca26\"], [1.0, \"#f0f921\"]], \"type\": \"surface\"}], \"table\": [{\"cells\": {\"fill\": {\"color\": \"#EBF0F8\"}, \"line\": {\"color\": \"white\"}}, \"header\": {\"fill\": {\"color\": \"#C8D4E3\"}, \"line\": {\"color\": \"white\"}}, \"type\": \"table\"}]}, \"layout\": {\"annotationdefaults\": {\"arrowcolor\": \"#2a3f5f\", \"arrowhead\": 0, \"arrowwidth\": 1}, \"coloraxis\": {\"colorbar\": {\"outlinewidth\": 0, \"ticks\": \"\"}}, \"colorscale\": {\"diverging\": [[0, \"#8e0152\"], [0.1, \"#c51b7d\"], [0.2, \"#de77ae\"], [0.3, \"#f1b6da\"], [0.4, \"#fde0ef\"], [0.5, \"#f7f7f7\"], [0.6, \"#e6f5d0\"], [0.7, \"#b8e186\"], [0.8, \"#7fbc41\"], [0.9, \"#4d9221\"], [1, \"#276419\"]], \"sequential\": [[0.0, \"#0d0887\"], [0.1111111111111111, \"#46039f\"], [0.2222222222222222, \"#7201a8\"], [0.3333333333333333, \"#9c179e\"], [0.4444444444444444, \"#bd3786\"], [0.5555555555555556, \"#d8576b\"], [0.6666666666666666, \"#ed7953\"], [0.7777777777777778, \"#fb9f3a\"], [0.8888888888888888, \"#fdca26\"], [1.0, \"#f0f921\"]], \"sequentialminus\": [[0.0, \"#0d0887\"], [0.1111111111111111, \"#46039f\"], [0.2222222222222222, \"#7201a8\"], [0.3333333333333333, \"#9c179e\"], [0.4444444444444444, \"#bd3786\"], [0.5555555555555556, \"#d8576b\"], [0.6666666666666666, \"#ed7953\"], [0.7777777777777778, \"#fb9f3a\"], [0.8888888888888888, \"#fdca26\"], [1.0, \"#f0f921\"]]}, \"colorway\": [\"#636efa\", \"#EF553B\", \"#00cc96\", \"#ab63fa\", \"#FFA15A\", \"#19d3f3\", \"#FF6692\", \"#B6E880\", \"#FF97FF\", \"#FECB52\"], \"font\": {\"color\": \"#2a3f5f\"}, \"geo\": {\"bgcolor\": \"white\", \"lakecolor\": \"white\", \"landcolor\": \"#E5ECF6\", \"showlakes\": true, \"showland\": true, \"subunitcolor\": \"white\"}, \"hoverlabel\": {\"align\": \"left\"}, \"hovermode\": \"closest\", \"mapbox\": {\"style\": \"light\"}, \"paper_bgcolor\": \"white\", \"plot_bgcolor\": \"#E5ECF6\", \"polar\": {\"angularaxis\": {\"gridcolor\": \"white\", \"linecolor\": \"white\", \"ticks\": \"\"}, \"bgcolor\": \"#E5ECF6\", \"radialaxis\": {\"gridcolor\": \"white\", \"linecolor\": \"white\", \"ticks\": \"\"}}, \"scene\": {\"xaxis\": {\"backgroundcolor\": \"#E5ECF6\", \"gridcolor\": \"white\", \"gridwidth\": 2, \"linecolor\": \"white\", \"showbackground\": true, \"ticks\": \"\", \"zerolinecolor\": \"white\"}, \"yaxis\": {\"backgroundcolor\": \"#E5ECF6\", \"gridcolor\": \"white\", \"gridwidth\": 2, \"linecolor\": \"white\", \"showbackground\": true, \"ticks\": \"\", \"zerolinecolor\": \"white\"}, \"zaxis\": {\"backgroundcolor\": \"#E5ECF6\", \"gridcolor\": \"white\", \"gridwidth\": 2, \"linecolor\": \"white\", \"showbackground\": true, \"ticks\": \"\", \"zerolinecolor\": \"white\"}}, \"shapedefaults\": {\"line\": {\"color\": \"#2a3f5f\"}}, \"ternary\": {\"aaxis\": {\"gridcolor\": \"white\", \"linecolor\": \"white\", \"ticks\": \"\"}, \"baxis\": {\"gridcolor\": \"white\", \"linecolor\": \"white\", \"ticks\": \"\"}, \"bgcolor\": \"#E5ECF6\", \"caxis\": {\"gridcolor\": \"white\", \"linecolor\": \"white\", \"ticks\": \"\"}}, \"title\": {\"x\": 0.05}, \"xaxis\": {\"automargin\": true, \"gridcolor\": \"white\", \"linecolor\": \"white\", \"ticks\": \"\", \"title\": {\"standoff\": 15}, \"zerolinecolor\": \"white\", \"zerolinewidth\": 2}, \"yaxis\": {\"automargin\": true, \"gridcolor\": \"white\", \"linecolor\": \"white\", \"ticks\": \"\", \"title\": {\"standoff\": 15}, \"zerolinecolor\": \"white\", \"zerolinewidth\": 2}}}, \"title\": {\"text\": \"Recovery rate:\"}, \"width\": 800, \"xaxis\": {\"anchor\": \"y\", \"domain\": [0.0, 1.0], \"title\": {\"text\": \"country\"}}, \"yaxis\": {\"anchor\": \"x\", \"domain\": [0.0, 1.0], \"title\": {\"text\": \"recovered\"}}},\n",
       "                        {\"responsive\": true}\n",
       "                    ).then(function(){\n",
       "                            \n",
       "var gd = document.getElementById('d6f3d0ce-03ba-4b5f-bff9-77d4a521d310');\n",
       "var x = new MutationObserver(function (mutations, observer) {{\n",
       "        var display = window.getComputedStyle(gd).display;\n",
       "        if (!display || display === 'none') {{\n",
       "            console.log([gd, 'removed!']);\n",
       "            Plotly.purge(gd);\n",
       "            observer.disconnect();\n",
       "        }}\n",
       "}});\n",
       "\n",
       "// Listen for the removal of the full notebook cells\n",
       "var notebookContainer = gd.closest('#notebook-container');\n",
       "if (notebookContainer) {{\n",
       "    x.observe(notebookContainer, {childList: true});\n",
       "}}\n",
       "\n",
       "// Listen for the clearing of the current output cell\n",
       "var outputEl = gd.closest('.output');\n",
       "if (outputEl) {{\n",
       "    x.observe(outputEl, {childList: true});\n",
       "}}\n",
       "\n",
       "                        })\n",
       "                };\n",
       "                });\n",
       "            </script>\n",
       "        </div>"
      ]
     },
     "metadata": {},
     "output_type": "display_data"
    }
   ],
   "source": [
    "px.bar(\n",
    "    sorted_country.head(10),\n",
    "    x = \"country\",\n",
    "    y = \"recovered\",\n",
    "    title= \"Recovery rate:\", # the axis names\n",
    "    color_discrete_sequence=[\"green\"], \n",
    "    height=500,\n",
    "    width=800\n",
    ")"
   ]
  },
  {
   "cell_type": "code",
   "execution_count": 19,
   "metadata": {},
   "outputs": [
    {
     "data": {
      "text/html": [
       "<div style = 'background-color: #504e4e; padding: 30px '><center><span style='color: #fff; font-size:40px;'>Global Spread of COVID-19:</span></center></div>"
      ],
      "text/plain": [
       "<IPython.core.display.HTML object>"
      ]
     },
     "metadata": {},
     "output_type": "display_data"
    }
   ],
   "source": [
    "display(HTML(\"<div style = 'background-color: black; padding: 30px '>\" +\n",
    "             \"<center><span style='color: #fff; font-size:40px;'>Global Spread of COVID-19:</span></center>\" +\n",
    "             \"</div>\")\n",
    "       )"
   ]
  },
  {
   "cell_type": "code",
   "execution_count": 20,
   "metadata": {},
   "outputs": [],
   "source": [
    "import folium"
   ]
  },
  {
   "cell_type": "code",
   "execution_count": 21,
   "metadata": {},
   "outputs": [
    {
     "data": {
      "text/html": [
       "<div style=\"width:100%;\"><div style=\"position:relative;width:100%;height:0;padding-bottom:60%;\"><iframe src=\"about:blank\" style=\"position:absolute;width:100%;height:100%;left:0;top:0;border:none !important;\" data-html=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 onload=\"this.contentDocument.open();this.contentDocument.write(atob(this.getAttribute('data-html')));this.contentDocument.close();\" allowfullscreen webkitallowfullscreen mozallowfullscreen></iframe></div></div>"
      ],
      "text/plain": [
       "<folium.folium.Map at 0x20a2472ed08>"
      ]
     },
     "execution_count": 21,
     "metadata": {},
     "output_type": "execute_result"
    }
   ],
   "source": [
    "# world_map = folium.Map(location=[11,0], tiles = \"cartodbpositron\", zoom_start = 1, max_zoom = 6, min_zoom = 2)\n",
    "f = folium.Figure(width=1099, height=500)\n",
    "world_map = folium.Map(location=[11,0], tiles = \"cartodbpositron\", zoom_start = 0, max_zoom = 6, min_zoom = 2).add_to(f)\n",
    "\n",
    "for i in range(len(confirmed_global)):\n",
    "    folium.Circle(\n",
    "    location = [confirmed_global.iloc[i]['lat'], confirmed_global.iloc[i]['long']],\n",
    "        fill = True,\n",
    "        radius = (int((np.log(confirmed_global.iloc[i, -1]+1.00001))) + 0.2) * 50000,\n",
    "        fill_color = 'red',\n",
    "        color = 'red',\n",
    "        tooltip = \"<div style='margin:0; background-color: black; color: white;'>\" +\n",
    "                    \"<h4 style='text-align: center; font-weight: bold;'>\" + confirmed_global.iloc[i]['country'] + \"</h4>\" +\n",
    "                    \"<hr style='margin: 10px; color: white;'>\" + \n",
    "                    \"<ul style='color: white;; list-style-type: circle; align-item: left; padding-left: 20px; padding-right: 20px;'>\" +\n",
    "                        \"<li> Confirmed: \" +str(confirmed_global.iloc[i,-1]) + \"</li>\" +\n",
    "                        \"<li> Deaths: \" +str(deaths_global.iloc[i,-1]) + \"</li>\" +\n",
    "                        #\"<li> Recoveries: \" +str(recoveries_global.iloc[i,-1]) + \"</li>\" +\n",
    "                        \"<li> Death Rate: \" +str(np.round(deaths_global.iloc[i,-1]/(confirmed_global.iloc[i,-1]+1.00001)*100, 2)) + \"</li>\" +\n",
    "                    \"</ul></div>\",\n",
    "    ).add_to(world_map)\n",
    "world_map"
   ]
  },
  {
   "cell_type": "code",
   "execution_count": 4,
   "metadata": {},
   "outputs": [
    {
     "name": "stdout",
     "output_type": "stream",
     "text": [
      "CPython 3.7.4\n",
      "IPython 7.12.0\n",
      "\n",
      "pandas 1.0.1\n",
      "numpy 1.18.1\n",
      "ipywidgets 7.5.1\n",
      "IPython 7.12.0\n",
      "matplotlib 3.1.3\n",
      "random unknown\n",
      "math unknown\n",
      "time unknown\n",
      "watermark 2.0.2\n",
      "\n",
      "compiler   : MSC v.1915 64 bit (AMD64)\n",
      "system     : Windows\n",
      "release    : 10\n",
      "machine    : AMD64\n",
      "processor  : Intel64 Family 6 Model 58 Stepping 9, GenuineIntel\n",
      "CPU cores  : 2\n",
      "interpreter: 64bit\n",
      " \n",
      "last updated: Tue May 05 2020 23:33:07 Eastern Daylight Time\n"
     ]
    }
   ],
   "source": [
    "%load_ext watermark\n",
    "\n",
    "# python, ipython, packages, and machine characteristics\n",
    "%watermark -v -m -p pandas,numpy,ipywidgets,IPython,matplotlib,random,math,time,watermark \n",
    "\n",
    "# date\n",
    "print (\" \")\n",
    "%watermark -u -n -t -z"
   ]
  },
  {
   "cell_type": "code",
   "execution_count": null,
   "metadata": {},
   "outputs": [],
   "source": []
  }
 ],
 "metadata": {
  "kernelspec": {
   "display_name": "Python 3",
   "language": "python",
   "name": "python3"
  },
  "language_info": {
   "codemirror_mode": {
    "name": "ipython",
    "version": 3
   },
   "file_extension": ".py",
   "mimetype": "text/x-python",
   "name": "python",
   "nbconvert_exporter": "python",
   "pygments_lexer": "ipython3",
   "version": "3.7.4"
  }
 },
 "nbformat": 4,
 "nbformat_minor": 4
}
